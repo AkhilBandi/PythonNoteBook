{
 "cells": [
  {
   "cell_type": "code",
   "execution_count": 10,
   "metadata": {
    "collapsed": true
   },
   "outputs": [],
   "source": [
    "a=[8,4,9,5,11,10,2,3]"
   ]
  },
  {
   "cell_type": "code",
   "execution_count": null,
   "metadata": {
    "collapsed": true
   },
   "outputs": [],
   "source": [
    "#### Tree "
   ]
  },
  {
   "cell_type": "code",
   "execution_count": 11,
   "metadata": {
    "collapsed": true
   },
   "outputs": [],
   "source": [
    "class Node:\n",
    "    def __init__(self,val):\n",
    "        self.lt=None\n",
    "        self.rt=None\n",
    "        self.val=val"
   ]
  },
  {
   "cell_type": "code",
   "execution_count": null,
   "metadata": {
    "collapsed": true
   },
   "outputs": [],
   "source": [
    "#### Binary search tree"
   ]
  },
  {
   "cell_type": "code",
   "execution_count": 13,
   "metadata": {
    "collapsed": true
   },
   "outputs": [],
   "source": [
    "class BST:\n",
    "    def __init__(self):\n",
    "        self.root = None\n",
    "\n",
    "    def insert(self, val):\n",
    "        rt = self.root\n",
    "        if not rt:\n",
    "            self.root = Node(val)\n",
    "            return\n",
    "\n",
    "        while rt:\n",
    "            if rt.val > val:\n",
    "                if not rt.lt:\n",
    "                    rt.lt=Node(val)\n",
    "                    break\n",
    "                rt=rt.lt\n",
    "            else:\n",
    "                if not rt.rt:\n",
    "                    rt.rt=Node(val)\n",
    "                    break\n",
    "                rt=rt.rt\n",
    "    def inorder(self):\n",
    "        self.__inorder(self.root)\n",
    "        print()\n",
    "    def __inorder(self,root):\n",
    "        if not root:\n",
    "            return\n",
    "        self.__inorder(root.lt)\n",
    "        print(root.val,end=\" \")\n",
    "        self.__inorder(root.rt)\n",
    "    \n",
    "    def preorder(self):\n",
    "        self.__preorder(self.root)\n",
    "    def __preorder(self,root):\n",
    "        if not root:\n",
    "            return \n",
    "        print(root.val,end=\" \")\n",
    "        self.__preorder(root.lt)\n",
    "        self.__preorder(root.rt)\n",
    "    def postorder(self):\n",
    "        self.__postorder(self.root)\n",
    "    def __postorder(self,root):\n",
    "        if not root:\n",
    "            return \n",
    "        self.__postorder(root.lt)\n",
    "        self.__postorder(root.rt)\n",
    "        print(root.val,end=\" \")\n",
    "bst=BST()\n",
    "for i in a:\n",
    "    bst.insert(i)"
   ]
  },
  {
   "cell_type": "code",
   "execution_count": null,
   "metadata": {
    "collapsed": true
   },
   "outputs": [],
   "source": [
    "#### Inorder,preorder,postorder in iterative "
   ]
  },
  {
   "cell_type": "code",
   "execution_count": null,
   "metadata": {
    "collapsed": true
   },
   "outputs": [],
   "source": [
    "class BSTIter(BST):\n",
    "    def __init__(self):\n",
    "        self.root=None\n",
    "    def inorder(self):\n",
    "        root=self.root\n",
    "        a=[]\n",
    "        while root or a:\n",
    "            while root:\n",
    "                a.append(root.lt)\n",
    "                root=root.lt\n",
    "            root=a.pop()\n",
    "            print(root.val,end=\" \")\n",
    "            root=root.rt\n",
    "    def preorder(self):\n",
    "        root=self.root\n",
    "        a=[]\n",
    "        while root or a:\n",
    "            while root:\n",
    "                if root.rt:\n",
    "                    a.append(root.rt)\n",
    "                print(root.val,end=\" \")\n",
    "                root=root.lt\n",
    "            root=a.pop()\n",
    "    def postorder(self):\n",
    "        root=self.root\n",
    "        a=[]\n",
    "        while root or a:\n",
    "            while root:\n",
    "                if root.rt:\n",
    "                    a.append(root.rt)\n",
    "                a.append(root)\n",
    "                root=root.lt\n",
    "            root=a.pop()\n",
    "            if  a and root.rt == a[-1]:\n",
    "                rt=a.pop()\n",
    "                a.append(root)\n",
    "                root=rt\n",
    "            else:\n",
    "                print(root.val,end=\" \")\n",
    "                root=None\n",
    "    def mirror_image(self):\n",
    "        rt=self.root\n",
    "        a=[]\n",
    "        a.append(rt)\n",
    "        while a:\n",
    "            rt=a.pop()\n",
    "            rt.lt,rt.rt=rt.rt,rt.lt\n",
    "            if rt.rt:\n",
    "                a.append(rt.rt)\n",
    "            if rt.lt:\n",
    "                a.append(rt.lt)\n",
    "        \n",
    "       \n",
    "bstiter=BST()\n",
    "for i in a:\n",
    "    bstiter.insert(i)"
   ]
  },
  {
   "cell_type": "code",
   "execution_count": null,
   "metadata": {
    "collapsed": true
   },
   "outputs": [],
   "source": [
    "bst.preorder()"
   ]
  },
  {
   "cell_type": "code",
   "execution_count": null,
   "metadata": {
    "collapsed": true
   },
   "outputs": [],
   "source": [
    "bstiter.inorder()"
   ]
  },
  {
   "cell_type": "code",
   "execution_count": null,
   "metadata": {
    "collapsed": true
   },
   "outputs": [],
   "source": [
    "#### Coverter"
   ]
  },
  {
   "cell_type": "code",
   "execution_count": null,
   "metadata": {
    "collapsed": true
   },
   "outputs": [],
   "source": [
    "pre=[8,4,2,3,5,9,11,10]\n",
    "inn=[2,3,4,5,8,9,10,11]"
   ]
  },
  {
   "cell_type": "code",
   "execution_count": 14,
   "metadata": {
    "collapsed": true
   },
   "outputs": [],
   "source": [
    "class BSTConverter:\n",
    "    @staticmethod\n",
    "    def find(inn, val):\n",
    "        for index, v in enumerate(inn):\n",
    "            if val == v:\n",
    "                return index\n",
    "        raise Exception(\"Number not found\")\n",
    "\n",
    "    @staticmethod\n",
    "    def to_post_order(inn, pre):\n",
    "        if not inn:\n",
    "            return []\n",
    "        index =BSTConverter.find(inn,pre[0])\n",
    "        left=inn[:index]\n",
    "        right=inn[index+1:]\n",
    "        prel=pre[1:1+len(left)]\n",
    "        prer=pre[1+len(left):]\n",
    "        ll=BSTConverter.to_post_order(left,prel)\n",
    "        rr=BSTConverter.to_post_order(right,prer)\n",
    "        return ll+rr+[pre[0]]"
   ]
  },
  {
   "cell_type": "code",
   "execution_count": 16,
   "metadata": {
    "collapsed": true
   },
   "outputs": [],
   "source": [
    "#### Vertical sum of a tree"
   ]
  },
  {
   "cell_type": "code",
   "execution_count": 18,
   "metadata": {
    "collapsed": false
   },
   "outputs": [
    {
     "name": "stdout",
     "output_type": "stream",
     "text": [
      "2 -2\n"
     ]
    }
   ],
   "source": [
    "maxx,minn=0,0\n",
    "def width(root):\n",
    "    def _width(root,lev):\n",
    "        global minn,maxx\n",
    "        minn=min(minn,lev)\n",
    "        maxx=max(maxx,lev)\n",
    "        if root.lt:\n",
    "            _width(root.lt,lev-1)\n",
    "        if root.rt:\n",
    "            _width(root.rt,lev+1)\n",
    "\n",
    "    _width(root,0)\n",
    "\n",
    "    print(maxx,minn)\n",
    "width(bst.root)"
   ]
  },
  {
   "cell_type": "code",
   "execution_count": 1,
   "metadata": {
    "collapsed": false
   },
   "outputs": [
    {
     "ename": "NameError",
     "evalue": "name 'bst' is not defined",
     "output_type": "error",
     "traceback": [
      "\u001b[0;31m---------------------------------------------------------------------------\u001b[0m",
      "\u001b[0;31mNameError\u001b[0m                                 Traceback (most recent call last)",
      "\u001b[0;32m<ipython-input-1-a590461e395c>\u001b[0m in \u001b[0;36m<module>\u001b[0;34m()\u001b[0m\n\u001b[1;32m      8\u001b[0m             \u001b[0m_vertical_sum\u001b[0m\u001b[0;34m(\u001b[0m\u001b[0mroot\u001b[0m\u001b[0;34m.\u001b[0m\u001b[0mrt\u001b[0m\u001b[0;34m,\u001b[0m\u001b[0mlev\u001b[0m\u001b[0;34m+\u001b[0m\u001b[0;36m1\u001b[0m\u001b[0;34m)\u001b[0m\u001b[0;34m\u001b[0m\u001b[0m\n\u001b[1;32m      9\u001b[0m     \u001b[0m_vertical_sum\u001b[0m\u001b[0;34m(\u001b[0m\u001b[0mroot\u001b[0m\u001b[0;34m,\u001b[0m\u001b[0mint\u001b[0m\u001b[0;34m(\u001b[0m\u001b[0mlen\u001b[0m\u001b[0;34m(\u001b[0m\u001b[0ma\u001b[0m\u001b[0;34m)\u001b[0m\u001b[0;34m/\u001b[0m\u001b[0;36m2\u001b[0m\u001b[0;34m)\u001b[0m\u001b[0;34m)\u001b[0m\u001b[0;34m\u001b[0m\u001b[0m\n\u001b[0;32m---> 10\u001b[0;31m \u001b[0mvertical_sum\u001b[0m\u001b[0;34m(\u001b[0m\u001b[0mbst\u001b[0m\u001b[0;34m.\u001b[0m\u001b[0mroot\u001b[0m\u001b[0;34m)\u001b[0m\u001b[0;34m\u001b[0m\u001b[0m\n\u001b[0m\u001b[1;32m     11\u001b[0m \u001b[0ma\u001b[0m\u001b[0;34m\u001b[0m\u001b[0m\n",
      "\u001b[0;31mNameError\u001b[0m: name 'bst' is not defined"
     ]
    }
   ],
   "source": [
    "a=[ 0 for i in range(5)]\n",
    "def vertical_sum(root):\n",
    "    def _vertical_sum(root,lev):\n",
    "        a[lev]+=root.val\n",
    "        if root.lt:\n",
    "            _vertical_sum(root.lt,lev-1)\n",
    "        if root.rt:\n",
    "            _vertical_sum(root.rt,lev+1)\n",
    "    _vertical_sum(root,int(len(a)/2))\n",
    "vertical_sum(bst.root)\n",
    "a"
   ]
  },
  {
   "cell_type": "code",
   "execution_count": null,
   "metadata": {
    "collapsed": true
   },
   "outputs": [],
   "source": [
    "Hello"
   ]
  },
  {
   "cell_type": "code",
   "execution_count": null,
   "metadata": {
    "collapsed": true
   },
   "outputs": [],
   "source": []
  }
 ],
 "metadata": {
  "anaconda-cloud": {},
  "kernelspec": {
   "display_name": "Python [default]",
   "language": "python",
   "name": "python3"
  },
  "language_info": {
   "codemirror_mode": {
    "name": "ipython",
    "version": 3
   },
   "file_extension": ".py",
   "mimetype": "text/x-python",
   "name": "python",
   "nbconvert_exporter": "python",
   "pygments_lexer": "ipython3",
   "version": "3.5.2"
  }
 },
 "nbformat": 4,
 "nbformat_minor": 2
}
