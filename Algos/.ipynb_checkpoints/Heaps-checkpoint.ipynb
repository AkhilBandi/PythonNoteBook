{
 "cells": [
  {
   "cell_type": "code",
   "execution_count": null,
   "metadata": {
    "collapsed": true
   },
   "outputs": [],
   "source": [
    "### Heap"
   ]
  },
  {
   "cell_type": "code",
   "execution_count": null,
   "metadata": {
    "collapsed": true
   },
   "outputs": [],
   "source": [
    "#### Both min and max heap class"
   ]
  },
  {
   "cell_type": "code",
   "execution_count": null,
   "metadata": {
    "collapsed": true
   },
   "outputs": [],
   "source": [
    "class Heap:\n",
    "    def __init__(self, arr):\n",
    "        self.arr = arr\n",
    "\n",
    "    def minheap(self):\n",
    "        ln = len(self.arr)\n",
    "        for i in range(int((ln - 1) / 2), -1, -1):\n",
    "            self._minheapify(i, ln)\n",
    "        return self.arr\n",
    "\n",
    "    def _minheapify(self,i, n):\n",
    "        ind = i\n",
    "        left = (2 * i) + 1\n",
    "        right = (2 * i) + 2\n",
    "        if left < n and self.arr[left] < self.arr[ind]:\n",
    "            ind = left\n",
    "        if right < n and self.arr[right] < self.arr[ind]:\n",
    "            ind = right\n",
    "        if ind != i:\n",
    "            self.arr[i], self.arr[ind] = self.arr[ind], self.arr[i]\n",
    "            self._minheapify(ind, n)\n",
    "\n",
    "    def maxheap(self):\n",
    "        ln = len(self.arr)\n",
    "        for i in range(int((ln  / 2)-1), -1, -1):\n",
    "            self._maxheapify(i, ln)\n",
    "        return self.arr\n",
    "\n",
    "    def _maxheapify(self,i, n):\n",
    "        ind = i\n",
    "        left = (2 * i) + 1\n",
    "        right = (2 * i) + 2\n",
    "        if left < n and self.arr[left] > self.arr[ind]:\n",
    "            ind = left\n",
    "        if right < n and self.arr[right] > self.arr[ind]:\n",
    "            ind = right\n",
    "        if ind != i:\n",
    "            self.arr[i], self.arr[ind] = self.arr[ind], self.arr[i]\n",
    "            self._maxheapify(ind, n)\n",
    "\n",
    "    def sort(self,ascending=False):\n",
    "        ln = len(self.arr)\n",
    "        if ascending:\n",
    "            self.maxheap()\n",
    "            for i in range(ln - 1, 0, -1):\n",
    "                self.arr[0], self.arr[i] = self.arr[i], self.arr[0]\n",
    "                self._maxheapify(0, i)\n",
    "        else:\n",
    "            self.minheap()\n",
    "            for i in range(ln - 1, 0, -1):\n",
    "                self.arr[0], self.arr[i] = self.arr[i], self.arr[0]\n",
    "                self._minheapify(0, i)\n",
    "        return self.arr\n",
    "\n",
    "    def add(self,num):\n",
    "        self.arr.append(num)\n",
    "\n",
    "    def remove(self,num):\n",
    "        self.arr.remove(num,1)\n"
   ]
  },
  {
   "cell_type": "code",
   "execution_count": 6,
   "metadata": {
    "collapsed": false
   },
   "outputs": [
    {
     "data": {
      "text/plain": [
       "[2, 3]"
      ]
     },
     "execution_count": 6,
     "metadata": {},
     "output_type": "execute_result"
    }
   ],
   "source": []
  },
  {
   "cell_type": "code",
   "execution_count": null,
   "metadata": {
    "collapsed": true
   },
   "outputs": [],
   "source": [
    "#### Min heap"
   ]
  },
  {
   "cell_type": "code",
   "execution_count": 3,
   "metadata": {
    "collapsed": true
   },
   "outputs": [],
   "source": [
    "class MinHeap():\n",
    "    def __init__(self, arr):\n",
    "        self.arr = arr\n",
    "        self.minheap()\n",
    "\n",
    "    def minheapify(self,i, n):\n",
    "        ind = i\n",
    "        left = (2 * ind) + 1\n",
    "        right = (2 * ind) + 2\n",
    "        if left < n and self.arr[left] < self.arr[ind]:\n",
    "            ind = left\n",
    "        if right < n and self.arr[right] < self.arr[ind]:\n",
    "            ind = right\n",
    "        if ind != i:\n",
    "            self.arr[i], self.arr[ind] = self.arr[ind], self.arr[i]\n",
    "            self.minheapify(ind, n)\n",
    "\n",
    "    def minheap(self):\n",
    "        ln = len(self.arr)\n",
    "        for i in range(int(ln / 2) - 1, -1, -1):\n",
    "            self.minheapify(i, ln)\n",
    "\n",
    "    def add(self, num):\n",
    "        ln = len(self.arr)\n",
    "        self.arr.append(num)\n",
    "        p = int((ln - 1) / 2)\n",
    "        while p >= 0:\n",
    "            if self.arr[p] > self.arr[ln]:\n",
    "                self.arr[p], self.arr[ln] = self.arr[ln], self.arr[p]\n",
    "                ln, p = p, int((p - 1) / 2)\n",
    "            else:\n",
    "                p = -1\n",
    "\n",
    "    def find(self, num):\n",
    "        for index, val in enumerate(self.arr):\n",
    "            if val == num:\n",
    "                return index\n",
    "        raise ValueError(\"{} is not in list\".format(num))\n",
    "\n",
    "    def remove(self, num):\n",
    "        index = self.find(num)\n",
    "        self.arr[index] = self.arr[-1]\n",
    "        self.arr = self.arr[:-1]\n",
    "        if index==len(self.arr):\n",
    "            return\n",
    "        p = int((index-1) / 2)\n",
    "        self.minheapify(index,len(self.arr))\n",
    "        while p >= 0:\n",
    "            if self.arr[p] > self.arr[index]:\n",
    "                self.arr[p], self.arr[index] = self.arr[index], self.arr[p]\n",
    "                index, p = p, int((p-1) / 2)\n",
    "            else:\n",
    "                p = -1\n",
    "    \n",
    "mh=MinHeap([5,2,7,3,8,3,2,6,1])\n",
    "mh.remove"
   ]
  },
  {
   "cell_type": "code",
   "execution_count": 2,
   "metadata": {
    "collapsed": true
   },
   "outputs": [],
   "source": [
    "#### Max heap"
   ]
  },
  {
   "cell_type": "code",
   "execution_count": 7,
   "metadata": {
    "collapsed": false
   },
   "outputs": [
    {
     "ename": "ValueError",
     "evalue": "list.remove(x): x not in list",
     "output_type": "error",
     "traceback": [
      "\u001b[1;31m---------------------------------------------------------------------------\u001b[0m",
      "\u001b[1;31mValueError\u001b[0m                                Traceback (most recent call last)",
      "\u001b[1;32m<ipython-input-7-8ac607c25fc6>\u001b[0m in \u001b[0;36m<module>\u001b[1;34m()\u001b[0m\n\u001b[0;32m      1\u001b[0m \u001b[0ma\u001b[0m\u001b[1;33m=\u001b[0m\u001b[1;33m[\u001b[0m\u001b[1;36m1\u001b[0m\u001b[1;33m]\u001b[0m\u001b[1;33m\u001b[0m\u001b[0m\n\u001b[1;32m----> 2\u001b[1;33m \u001b[0ma\u001b[0m\u001b[1;33m.\u001b[0m\u001b[0mremove\u001b[0m\u001b[1;33m(\u001b[0m\u001b[1;36m2\u001b[0m\u001b[1;33m)\u001b[0m\u001b[1;33m\u001b[0m\u001b[0m\n\u001b[0m",
      "\u001b[1;31mValueError\u001b[0m: list.remove(x): x not in list"
     ]
    }
   ],
   "source": [
    "a=[1]\n",
    "a.remove(2)"
   ]
  }
 ],
 "metadata": {
  "anaconda-cloud": {},
  "kernelspec": {
   "display_name": "Python [default]",
   "language": "python",
   "name": "python3"
  },
  "language_info": {
   "codemirror_mode": {
    "name": "ipython",
    "version": 3
   },
   "file_extension": ".py",
   "mimetype": "text/x-python",
   "name": "python",
   "nbconvert_exporter": "python",
   "pygments_lexer": "ipython3",
   "version": "3.5.2"
  }
 },
 "nbformat": 4,
 "nbformat_minor": 2
}
