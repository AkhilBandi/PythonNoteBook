{
 "cells": [
  {
   "cell_type": "code",
   "execution_count": null,
   "metadata": {},
   "outputs": [],
   "source": [
    "a=[1,1,2,4,5,7,7,9]"
   ]
  },
  {
   "cell_type": "code",
   "execution_count": null,
   "metadata": {},
   "outputs": [],
   "source": [
    "#### BS"
   ]
  },
  {
   "cell_type": "code",
   "execution_count": null,
   "metadata": {},
   "outputs": [],
   "source": [
    "s,e=0,len(a)-1\n",
    "def bs(s,e,val):\n",
    "    while s<e:\n",
    "        if val<a[s] or val>a[e]:\n",
    "            return -1\n",
    "        if a[s]==val:\n",
    "            return s\n",
    "        if a[e]==val:\n",
    "            return e\n",
    "        mid=int((s+e)/2)\n",
    "        if a[mid]==val:\n",
    "            return mid\n",
    "        elif a[mid]>val:\n",
    "            e=mid-1\n",
    "        else:\n",
    "            s=mid+1\n",
    "    return -1\n",
    "bs(s,e,7)"
   ]
  },
  {
   "cell_type": "code",
   "execution_count": 2,
   "metadata": {},
   "outputs": [],
   "source": [
    "def lower_bs(s,e):\n",
    "    ans=-1\n",
    "    while s<=e:\n",
    "        mid=int((s+e)/2)\n",
    "        if a[mid]==val:\n",
    "            ans=mid\n",
    "            e=mid-1\n",
    "        elif a[mid]>val:\n",
    "            e=mid-1\n",
    "        else:\n",
    "            s=mid+1\n",
    "    return ans\n",
    "def higher_bs(s,e):\n",
    "    while s<=e:\n",
    "        mid=int((s+e)/2)\n",
    "        if a[mid]==val:\n",
    "            ans=mid\n",
    "            s=mid+1\n",
    "        elif a[mid]<val:\n",
    "            e=mid-1\n",
    "        else:\n",
    "            s=mid+1\n",
    "    return ans\n"
   ]
  },
  {
   "cell_type": "code",
   "execution_count": null,
   "metadata": {},
   "outputs": [],
   "source": [
    "def lower_bound_bs(s,e,val):\n",
    "    ans=-1\n",
    "    while s<=e:\n",
    "        mid=int((s+e)/2)\n",
    "        ans=mid\n",
    "        if s==e:\n",
    "            break\n",
    "        if a[mid]>=val:\n",
    "            e=mid-1\n",
    "        else a[mid]<val:\n",
    "            s=mid+1\n",
    "lower_bound_bs()"
   ]
  },
  {
   "cell_type": "code",
   "execution_count": 1,
   "metadata": {},
   "outputs": [
    {
     "ename": "NameError",
     "evalue": "name 'higher_bound_bs' is not defined",
     "output_type": "error",
     "traceback": [
      "\u001b[1;31m---------------------------------------------------------------------------\u001b[0m",
      "\u001b[1;31mNameError\u001b[0m                                 Traceback (most recent call last)",
      "\u001b[1;32m<ipython-input-1-79f06b56cb99>\u001b[0m in \u001b[0;36m<module>\u001b[1;34m()\u001b[0m\n\u001b[0;32m      1\u001b[0m \u001b[0ma\u001b[0m\u001b[1;33m=\u001b[0m\u001b[1;33m[\u001b[0m\u001b[1;36m1\u001b[0m\u001b[1;33m,\u001b[0m\u001b[1;36m1\u001b[0m\u001b[1;33m,\u001b[0m\u001b[1;36m3\u001b[0m\u001b[1;33m,\u001b[0m\u001b[1;36m3\u001b[0m\u001b[1;33m,\u001b[0m\u001b[1;36m3\u001b[0m\u001b[1;33m]\u001b[0m\u001b[1;33m\u001b[0m\u001b[0m\n\u001b[1;32m----> 2\u001b[1;33m \u001b[0mhigher_bound_bs\u001b[0m\u001b[1;33m(\u001b[0m\u001b[1;36m0\u001b[0m\u001b[1;33m,\u001b[0m\u001b[0mlen\u001b[0m\u001b[1;33m(\u001b[0m\u001b[0ma\u001b[0m\u001b[1;33m)\u001b[0m\u001b[1;33m-\u001b[0m\u001b[1;36m1\u001b[0m\u001b[1;33m,\u001b[0m\u001b[1;36m1\u001b[0m\u001b[1;33m)\u001b[0m\u001b[1;33m\u001b[0m\u001b[0m\n\u001b[0m",
      "\u001b[1;31mNameError\u001b[0m: name 'higher_bound_bs' is not defined"
     ]
    }
   ],
   "source": [
    "a=[1,1,3,3,3]\n",
    "higher_bound_bs(0,len(a)-1,1)"
   ]
  },
  {
   "cell_type": "code",
   "execution_count": 1,
   "metadata": {},
   "outputs": [
    {
     "data": {
      "text/plain": [
       "0"
      ]
     },
     "execution_count": 1,
     "metadata": {},
     "output_type": "execute_result"
    }
   ],
   "source": [
    "def higher_bound(arr,val):\n",
    "    i,j=0,len(arr)-1\n",
    "    while i<=j:\n",
    "        mid=int((i+j+1)/2)\n",
    "        if arr[mid]<=val:\n",
    "            i=mid+1\n",
    "        else:\n",
    "            j=mid-1\n",
    "    return i\n",
    "higher_bound([1,2,3,3,5],0)"
   ]
  },
  {
   "cell_type": "code",
   "execution_count": 2,
   "metadata": {},
   "outputs": [],
   "source": [
    "s=[6014850264897084,\n",
    "6014853541928413,\n",
    "6014852387523597,\n",
    "6014853511409392,\n",
    "6014852646506096,\n",
    "6014852646506096,\n",
    "6014852646506096,\n",
    "6014852647860094,\n",
    "6014852647059210,\n",
    "6014852641100003,\n",
    "6014852646506096,\n",
    "6014852641518123,\n",
    "6014852649974325,\n",
    "6014852395765369,\n",
    "6014852647860094,\n",
    "6014852649974325,\n",
    "6014852645823827,\n",
    "6014852646941033,\n",
    "6014852646506096,\n",
    "6014852646506096,\n",
    "6014853549691789,\n",
    "6014853543025843,\n",
    "6014853516704481,\n",
    "6014853514991160,\n",
    "6014852398409206,\n",
    "6014852649974325,\n",
    "6014852641126983,\n",
    "6014852646941033,\n",
    "6014852644017369,\n",
    "6014852647860094,\n",
    "6014852646506096,\n",
    "6014852647860094,\n",
    "6014852646506096]"
   ]
  },
  {
   "cell_type": "code",
   "execution_count": 5,
   "metadata": {},
   "outputs": [
    {
     "name": "stdout",
     "output_type": "stream",
     "text": [
      "[6014850264897084, 6014853541928413, 6014852387523597, 6014853511409392, 6014852646506096, 6014852647860094, 6014852647059210, 6014852641100003, 6014852641518123, 6014852649974325, 6014852395765369, 6014852645823827, 6014852646941033, 6014853549691789, 6014853543025843, 6014853516704481, 6014853514991160, 6014852398409206, 6014852641126983, 6014852644017369]\n"
     ]
    },
    {
     "data": {
      "text/plain": [
       "33"
      ]
     },
     "execution_count": 5,
     "metadata": {},
     "output_type": "execute_result"
    }
   ],
   "source": [
    "a=[]\n",
    "for i in s:\n",
    "    if i not in a:\n",
    "        a.append(i)\n",
    "print(a)\n",
    "len(s)"
   ]
  },
  {
   "cell_type": "code",
   "execution_count": null,
   "metadata": {},
   "outputs": [],
   "source": []
  }
 ],
 "metadata": {
  "kernelspec": {
   "display_name": "Python 3",
   "language": "python",
   "name": "python3"
  },
  "language_info": {
   "codemirror_mode": {
    "name": "ipython",
    "version": 3
   },
   "file_extension": ".py",
   "mimetype": "text/x-python",
   "name": "python",
   "nbconvert_exporter": "python",
   "pygments_lexer": "ipython3",
   "version": "3.7.3"
  }
 },
 "nbformat": 4,
 "nbformat_minor": 2
}
