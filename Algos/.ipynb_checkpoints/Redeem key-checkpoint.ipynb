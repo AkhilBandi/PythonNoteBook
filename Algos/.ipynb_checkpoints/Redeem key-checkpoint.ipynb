{
 "cells": [
  {
   "cell_type": "code",
   "execution_count": 5,
   "metadata": {},
   "outputs": [
    {
     "name": "stdout",
     "output_type": "stream",
     "text": [
      "gcsharp.redeem.1111jZKKDwl88I1p5dWKrkvjB.6014853795050636\n",
      "gcsharp.redeem.1111jZKKDwl88I1p5dWKrkvjB.6014853796595863\n",
      "\n"
     ]
    },
    {
     "ename": "FileNotFoundError",
     "evalue": "[Errno 2] No such file or directory: 'keys_2_delete8.txt'",
     "output_type": "error",
     "traceback": [
      "\u001b[0;31m---------------------------------------------------------------------------\u001b[0m",
      "\u001b[0;31mFileNotFoundError\u001b[0m                         Traceback (most recent call last)",
      "\u001b[0;32m<ipython-input-5-dfca25f67a0b>\u001b[0m in \u001b[0;36m<module>\u001b[0;34m\u001b[0m\n\u001b[1;32m     33\u001b[0m \u001b[0mkeys_2_delete\u001b[0m\u001b[0;34m.\u001b[0m\u001b[0mclose\u001b[0m\u001b[0;34m(\u001b[0m\u001b[0;34m)\u001b[0m\u001b[0;34m\u001b[0m\u001b[0;34m\u001b[0m\u001b[0m\n\u001b[1;32m     34\u001b[0m \u001b[0mos\u001b[0m\u001b[0;34m.\u001b[0m\u001b[0mremove\u001b[0m\u001b[0;34m(\u001b[0m\u001b[0;34m\"keys_2_delete8.txt\"\u001b[0m\u001b[0;34m)\u001b[0m \u001b[0;31m# You may comment this out if you want to retain the file with keys\u001b[0m\u001b[0;34m\u001b[0m\u001b[0;34m\u001b[0m\u001b[0m\n\u001b[0;32m---> 35\u001b[0;31m \u001b[0mos\u001b[0m\u001b[0;34m.\u001b[0m\u001b[0mremove\u001b[0m\u001b[0;34m(\u001b[0m\u001b[0;34m\"keys_2_delete8.txt\"\u001b[0m\u001b[0;34m)\u001b[0m\u001b[0;34m\u001b[0m\u001b[0;34m\u001b[0m\u001b[0m\n\u001b[0m",
      "\u001b[0;31mFileNotFoundError\u001b[0m: [Errno 2] No such file or directory: 'keys_2_delete8.txt'"
     ]
    }
   ],
   "source": [
    "\n",
    "import sys, os, datetime, time, base64\n",
    "\n",
    "os.system(\"cat redeemStuckWFs.txt | sed -e 's/.*GC_BALANCE_SPLIT_REQUEST\\(.*\\), data=.*dubGCIdToAmountMap={\\(.*\\)}, dubInitializeEventId.*/\\\\1 | \\\\2/' >> acc_2_gcid_map9.txt\")\n",
    "\n",
    "acc_2gcid_map= open('acc_2_gcid_map9.txt', 'r')\n",
    "keys_2_delete= open('keys_2_delete9.txt', 'w')\n",
    "\n",
    "for gcid_maps in acc_2gcid_map:\n",
    "    gcid_maps=gcid_maps.strip()\n",
    "    if gcid_maps:\n",
    "        oldsignature=gcid_maps.split('|')[0]\n",
    "        oldsignature=oldsignature.strip()\n",
    "        signature=oldsignature.replace(\"/\", \"\")\n",
    "#         print(gcid_maps)\n",
    "        gcids = gcid_maps.split('|')[1]\n",
    "        if gcids:\n",
    "            gcids=gcids.replace('\"','')\n",
    "            gcid = gcids.split(',')\n",
    "            for gc in gcid:\n",
    "                gc=gc.strip()\n",
    "                if gc:\n",
    "                    single_gc=gc.split(':')[0]\n",
    "                    keys_2_delete.write(\"gcsharp.redeem.\"+signature+\".\"+single_gc+\"\\n\")\n",
    "\n",
    "acc_2gcid_map.close()\n",
    "keys_2_delete.close()\n",
    "\n",
    "os.remove(\"acc_2_gcid_map9.txt\")\n",
    "f = open('keys_2_delete9.txt', 'r')\n",
    "file_contents = f.read()\n",
    "print (file_contents)\n",
    "keys_2_delete.close()\n",
    "# os.remove(\"keys_2_delete8.txt\") # You may comment this out if you want to retain the file with keys\n",
    "# os.remove(\"keys_2_delete8.txt\")"
   ]
  },
  {
   "cell_type": "code",
   "execution_count": null,
   "metadata": {
    "collapsed": true
   },
   "outputs": [],
   "source": []
  }
 ],
 "metadata": {
  "anaconda-cloud": {},
  "kernelspec": {
   "display_name": "Python 3",
   "language": "python",
   "name": "python3"
  },
  "language_info": {
   "codemirror_mode": {
    "name": "ipython",
    "version": 3
   },
   "file_extension": ".py",
   "mimetype": "text/x-python",
   "name": "python",
   "nbconvert_exporter": "python",
   "pygments_lexer": "ipython3",
   "version": "3.7.3"
  }
 },
 "nbformat": 4,
 "nbformat_minor": 1
}
