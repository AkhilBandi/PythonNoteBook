{
 "cells": [
  {
   "cell_type": "code",
   "execution_count": 1,
   "metadata": {
    "collapsed": true
   },
   "outputs": [],
   "source": [
    "####   Segment Tree"
   ]
  },
  {
   "cell_type": "code",
   "execution_count": 3,
   "metadata": {
    "collapsed": true
   },
   "outputs": [],
   "source": [
    "class Node:\n",
    "    def __init__(self,val,s,e):\n",
    "        self.val=val\n",
    "        self.lt=None\n",
    "        self.rt=None\n",
    "        self.parent=None\n",
    "        self.range=(s,e)"
   ]
  },
  {
   "cell_type": "code",
   "execution_count": 4,
   "metadata": {
    "collapsed": true
   },
   "outputs": [],
   "source": [
    "#### Segment Tree Implementation"
   ]
  },
  {
   "cell_type": "code",
   "execution_count": 5,
   "metadata": {
    "collapsed": true
   },
   "outputs": [],
   "source": [
    "class SegmentTree:\n",
    "    def __init__(self,arr):\n",
    "        self.root=None\n",
    "        self.root=self.form_segment_tree(arr,0,len(arr)-1)\n",
    "    def form_segment_tree(self,arr,s,e):\n",
    "        ln=len(arr)\n",
    "        if ln==1:\n",
    "            node=Node(arr[0],s,e)\n",
    "            return node\n",
    "        mid=int(ln/2)\n",
    "        node =Node(sum(arr),s,e)\n",
    "        node.lt=self.form_segment_tree(arr[0:mid].copy(),s,s+mid-1)\n",
    "        node.rt=self.form_segment_tree(arr[mid:].copy(),s+mid,e)\n",
    "        node.lt.parent=node\n",
    "        node.rt.parent=node\n",
    "        return node\n",
    "\n",
    "    def find_sum(self,l,r,rt=None):\n",
    "        if not rt:\n",
    "            rt=self.root\n",
    "        if r>rt.range[1] or l<rt.range[0]:\n",
    "            raise Exception(\"Range exceeded\")\n",
    "        if rt.range[0]==l and rt.range[1]==r:\n",
    "            return rt.val\n",
    "        mid=int((rt.range[1]+rt.range[0]+1)/2)-1\n",
    "        if l<=mid and r<=mid:\n",
    "            return self.find_sum(l,r,rt.lt)\n",
    "        if l<=mid and r>mid:\n",
    "            return self.find_sum(l,mid,rt.lt)+self.find_sum(mid+1,r,rt.rt)\n",
    "        if l>mid and r>mid:\n",
    "            return self.find_sum(l,r,rt.rt)\n",
    "\n",
    "    def update_index(self,l,val):\n",
    "        rt=self.root\n",
    "        while True:\n",
    "            if rt.range[0]==l and rt.range[1]==l:\n",
    "                break\n",
    "            mid=int((rt.range[0]+rt.range[1]-1)/2)\n",
    "            if l<=mid:\n",
    "                rt=rt.lt\n",
    "            else:\n",
    "                rt=rt.rt\n",
    "        diff=val-rt.val\n",
    "        rt.val=val\n",
    "        while rt.parent:\n",
    "            rt=rt.parent\n",
    "            rt.val+=diff\n",
    "\n"
   ]
  },
  {
   "cell_type": "code",
   "execution_count": 6,
   "metadata": {
    "collapsed": true
   },
   "outputs": [],
   "source": [
    "#### AVL Tree"
   ]
  },
  {
   "cell_type": "code",
   "execution_count": null,
   "metadata": {
    "collapsed": true
   },
   "outputs": [],
   "source": []
  },
  {
   "cell_type": "code",
   "execution_count": null,
   "metadata": {
    "collapsed": true
   },
   "outputs": [],
   "source": []
  },
  {
   "cell_type": "code",
   "execution_count": 7,
   "metadata": {
    "collapsed": true
   },
   "outputs": [],
   "source": [
    "#### Trees to Double linked list"
   ]
  },
  {
   "cell_type": "code",
   "execution_count": null,
   "metadata": {
    "collapsed": true
   },
   "outputs": [],
   "source": []
  },
  {
   "cell_type": "code",
   "execution_count": null,
   "metadata": {
    "collapsed": true
   },
   "outputs": [],
   "source": []
  },
  {
   "cell_type": "code",
   "execution_count": 8,
   "metadata": {
    "collapsed": true
   },
   "outputs": [],
   "source": [
    "#### Mirror the tree"
   ]
  },
  {
   "cell_type": "code",
   "execution_count": 9,
   "metadata": {
    "collapsed": true
   },
   "outputs": [],
   "source": [
    "class Node:\n",
    "    def __init__(self,a):\n",
    "        self.val=a\n",
    "        self.lt=None\n",
    "        self.rt=None"
   ]
  },
  {
   "cell_type": "code",
   "execution_count": null,
   "metadata": {
    "collapsed": true
   },
   "outputs": [],
   "source": []
  }
 ],
 "metadata": {
  "anaconda-cloud": {},
  "kernelspec": {
   "display_name": "Python [default]",
   "language": "python",
   "name": "python3"
  },
  "language_info": {
   "codemirror_mode": {
    "name": "ipython",
    "version": 3
   },
   "file_extension": ".py",
   "mimetype": "text/x-python",
   "name": "python",
   "nbconvert_exporter": "python",
   "pygments_lexer": "ipython3",
   "version": "3.5.2"
  }
 },
 "nbformat": 4,
 "nbformat_minor": 2
}
