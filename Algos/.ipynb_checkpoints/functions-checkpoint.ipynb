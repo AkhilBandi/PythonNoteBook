{
 "cells": [
  {
   "cell_type": "code",
   "execution_count": 1,
   "metadata": {
    "collapsed": false
   },
   "outputs": [
    {
     "name": "stdout",
     "output_type": "stream",
     "text": [
      "2\n"
     ]
    }
   ],
   "source": [
    "def try_and(x):\n",
    "    if x:\n",
    "        x and 1==2\n",
    "    print(2)\n",
    "try_and(\"s\")"
   ]
  },
  {
   "cell_type": "code",
   "execution_count": 3,
   "metadata": {
    "collapsed": false
   },
   "outputs": [
    {
     "ename": "ImportError",
     "evalue": "No module named 'urllib2'",
     "output_type": "error",
     "traceback": [
      "\u001b[0;31m---------------------------------------------------------------------------\u001b[0m",
      "\u001b[0;31mImportError\u001b[0m                               Traceback (most recent call last)",
      "\u001b[0;32m<ipython-input-3-9a9e15b04802>\u001b[0m in \u001b[0;36m<module>\u001b[0;34m()\u001b[0m\n\u001b[1;32m     11\u001b[0m '''\n\u001b[1;32m     12\u001b[0m \u001b[0;34m\u001b[0m\u001b[0m\n\u001b[0;32m---> 13\u001b[0;31m \u001b[0;32mimport\u001b[0m \u001b[0msys\u001b[0m\u001b[0;34m,\u001b[0m \u001b[0mos\u001b[0m\u001b[0;34m,\u001b[0m \u001b[0mdatetime\u001b[0m\u001b[0;34m,\u001b[0m \u001b[0mtime\u001b[0m\u001b[0;34m,\u001b[0m \u001b[0murllib2\u001b[0m\u001b[0;34m,\u001b[0m \u001b[0mbase64\u001b[0m\u001b[0;34m\u001b[0m\u001b[0m\n\u001b[0m\u001b[1;32m     14\u001b[0m \u001b[0;34m\u001b[0m\u001b[0m\n\u001b[1;32m     15\u001b[0m \u001b[0mos\u001b[0m\u001b[0;34m.\u001b[0m\u001b[0msystem\u001b[0m\u001b[0;34m(\u001b[0m\u001b[0;34m\"cat input.txt | sed -e 's/.*REDEEM_TPV_CALL_REQUEST\\(.*\\), data=.*gcIdToAmountMap={\\(.*\\)}, accountIdToGCIdMap.*/\\\\1 | \\\\2/' >> acc_2_gcid_map.txt\"\u001b[0m\u001b[0;34m)\u001b[0m\u001b[0;34m\u001b[0m\u001b[0m\n",
      "\u001b[0;31mImportError\u001b[0m: No module named 'urllib2'"
     ]
    }
   ],
   "source": [
    "#!/usr/bin/env python\n",
    "__author__ = 'jmothkur'\n",
    "\n",
    "'''\n",
    "Script which takes herd fetch activity blobs of redeem wfs and provides the keys to be queried in the DB.\n",
    "Steps:\n",
    "1. Process as Batch > Fetch Activity > Arguments: filterKey=herdDocumentUpdates&expr=herdDocumentUpdates.entity&filterRegex=.*gcIdToAmountMap.*\n",
    "2. Process all.\n",
    "3. Copy all of the blobs and save them in 'input.txt' file where the script is located.\n",
    "4. Run the script.py and it will print out all the stuck redeem wfs keys.\n",
    "'''\n",
    "\n",
    "import sys, os, datetime, time, urllib2, base64\n",
    "\n",
    "os.system(\"cat input.txt | sed -e 's/.*REDEEM_TPV_CALL_REQUEST\\(.*\\), data=.*gcIdToAmountMap={\\(.*\\)}, accountIdToGCIdMap.*/\\\\1 | \\\\2/' >> acc_2_gcid_map.txt\")\n",
    "\n",
    "acc_2gcid_map= open('acc_2_gcid_map.txt', 'r')\n",
    "keys_2_delete= open('keys_2_delete.txt', 'w')\n",
    "\n",
    "for gcid_maps in acc_2gcid_map:\n",
    "    gcid_maps=gcid_maps.strip()\n",
    "    if gcid_maps:\n",
    "        oldsignature=gcid_maps.split('|')[0]\n",
    "        oldsignature=oldsignature.strip()\n",
    "        signature=oldsignature.replace(\"/\", \"\")\n",
    "        gcids = gcid_maps.split('|')[1]\n",
    "        if gcids:\n",
    "            gcids=gcids.replace('\"','')\n",
    "            gcid = gcids.split(',')\n",
    "            for gc in gcid:\n",
    "                gc=gc.strip()\n",
    "                if gc:\n",
    "                    single_gc=gc.split(':')[0]\n",
    "                    keys_2_delete.write(\"gcsharp.redeem.\"+signature+\".\"+single_gc+\"\\n\")\n",
    "\n",
    "acc_2gcid_map.close()\n",
    "keys_2_delete.close()\n",
    "\n",
    "os.remove(\"acc_2_gcid_map.txt\")\n",
    "print(\"\\nFollowing are the keys to be queried in the DB: \\n\")\n",
    "f = open('keys_2_delete.txt', 'r')\n",
    "file_contents = f.read()\n",
    "print (file_contents)\n",
    "keys_2_delete.close()\n",
    "os.remove(\"keys_2_delete.txt\") # You may comment this out if you want to retain the file with keys"
   ]
  },
  {
   "cell_type": "code",
   "execution_count": null,
   "metadata": {
    "collapsed": true
   },
   "outputs": [],
   "source": []
  }
 ],
 "metadata": {
  "anaconda-cloud": {},
  "kernelspec": {
   "display_name": "Python [default]",
   "language": "python",
   "name": "python3"
  },
  "language_info": {
   "codemirror_mode": {
    "name": "ipython",
    "version": 3
   },
   "file_extension": ".py",
   "mimetype": "text/x-python",
   "name": "python",
   "nbconvert_exporter": "python",
   "pygments_lexer": "ipython3",
   "version": "3.5.2"
  }
 },
 "nbformat": 4,
 "nbformat_minor": 2
}
