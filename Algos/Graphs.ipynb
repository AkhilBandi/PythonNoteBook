{
 "cells": [
  {
   "cell_type": "markdown",
   "metadata": {},
   "source": [
    "#### Bi-directional h"
   ]
  },
  {
   "cell_type": "markdown",
   "metadata": {},
   "source": [
    "- case 1"
   ]
  },
  {
   "cell_type": "code",
   "execution_count": 7,
   "metadata": {},
   "outputs": [
    {
     "name": "stdout",
     "output_type": "stream",
     "text": [
      "1 2\n",
      "2 4\n",
      "1 3\n",
      "3 5\n",
      "3 6\n",
      "6 7\n"
     ]
    }
   ],
   "source": [
    "n,m=7,6\n",
    "bg=[[] for _ in range(n+1)]\n",
    "for _ in range(m):\n",
    "    u,v=map(int,input().split())\n",
    "    bg[u].append(v)\n",
    "    bg[v].append(u)"
   ]
  },
  {
   "cell_type": "markdown",
   "metadata": {},
   "source": [
    "## - case 2"
   ]
  },
  {
   "cell_type": "code",
   "execution_count": 8,
   "metadata": {},
   "outputs": [
    {
     "name": "stdout",
     "output_type": "stream",
     "text": [
      "1 2\n",
      "2 4\n",
      "1 3\n",
      "3 5\n",
      "3 6\n",
      "6 7\n",
      "2 7\n"
     ]
    }
   ],
   "source": [
    "n2,m2=7,7\n",
    "bg2=[[] for _ in range(n2+1)]\n",
    "for _ in range(m2):\n",
    "    u,v=map(int,input().split())\n",
    "    bg2[u].append(v)\n",
    "    bg2[v].append(u)"
   ]
  },
  {
   "cell_type": "markdown",
   "metadata": {},
   "source": [
    "#### Node colouring problem"
   ]
  },
  {
   "cell_type": "code",
   "execution_count": 10,
   "metadata": {},
   "outputs": [
    {
     "data": {
      "text/plain": [
       "[-1, 0, 1, 0, 0, -1, -1, -1]"
      ]
     },
     "execution_count": 10,
     "metadata": {},
     "output_type": "execute_result"
    }
   ],
   "source": [
    "c=[-1 for _ in range(n+1)]\n",
    "c2=[-1 for _ in range(n2+1)]\n",
    "\n",
    "def _colour(node,col):\n",
    "    cl[node]=col\n",
    "    new_col=(col+1)%2\n",
    "    for i in g[node]:\n",
    "        if cl[i]==col:\n",
    "            return -1\n",
    "        elif cl[i]==-1 and _colour(i,new_col)==-1:\n",
    "            return -1\n",
    "    return\n",
    "\n",
    "def colour_nodes(n):\n",
    "    x=0\n",
    "    for i in range(1,n+1):\n",
    "        if cl[i]==-1:\n",
    "            x=_colour(i,0)\n",
    "            if x==-1:\n",
    "                return -1\n",
    "    return\n",
    "\n",
    "cl=c\n",
    "g=bg\n",
    "colour_nodes(n)\n",
    "c"
   ]
  },
  {
   "cell_type": "code",
   "execution_count": 1,
   "metadata": {},
   "outputs": [
    {
     "ename": "NameError",
     "evalue": "name 'bg2' is not defined",
     "output_type": "error",
     "traceback": [
      "\u001b[1;31m---------------------------------------------------------------------------\u001b[0m",
      "\u001b[1;31mNameError\u001b[0m                                 Traceback (most recent call last)",
      "\u001b[1;32m<ipython-input-1-eecd6d0f7658>\u001b[0m in \u001b[0;36m<module>\u001b[1;34m()\u001b[0m\n\u001b[1;32m----> 1\u001b[1;33m \u001b[0mbg2\u001b[0m\u001b[1;33m\u001b[0m\u001b[0m\n\u001b[0m",
      "\u001b[1;31mNameError\u001b[0m: name 'bg2' is not defined"
     ]
    }
   ],
   "source": [
    "bg2"
   ]
  },
  {
   "cell_type": "markdown",
   "metadata": {},
   "source": [
    "#### distance of nodes from node 1"
   ]
  },
  {
   "cell_type": "code",
   "execution_count": 11,
   "metadata": {},
   "outputs": [
    {
     "data": {
      "text/plain": [
       "[-1, 0, 1, 1, 2, 2, 2, 3]"
      ]
     },
     "execution_count": 11,
     "metadata": {},
     "output_type": "execute_result"
    }
   ],
   "source": [
    "d=[-1 for _ in range(n+1)]\n",
    "g=bg\n",
    "def distance(node):\n",
    "    from collections import deque\n",
    "    q1=deque()\n",
    "    q1.append((node,0))\n",
    "    while q1:\n",
    "        tpl=q1.popleft()\n",
    "        if d[tpl[0]]!=-1:\n",
    "            continue\n",
    "        d[tpl[0]]=tpl[1]\n",
    "        for i in g[tpl[0]]:\n",
    "            if d[i]==-1:\n",
    "                q1.append((i,tpl[1]+1))\n",
    "distance(1)\n",
    "d"
   ]
  },
  {
   "cell_type": "markdown",
   "metadata": {},
   "source": [
    "#### Minimum spanning tree"
   ]
  },
  {
   "cell_type": "code",
   "execution_count": null,
   "metadata": {},
   "outputs": [],
   "source": [
    "n,m=map(int,input().split())\n",
    "i=0\n",
    "g=[[] for _ in range(n+1)]\n",
    "while i<m:\n",
    "    u,v,w=map(int,input().split())\n",
    "    g[u].append((v,w))\n",
    "    g[v].append((u,w))\n",
    "    i+=1\n",
    "\n",
    "vals=[(-1,-1) for i in range(n+1)]\n",
    "st=set()\n",
    "\n",
    "def min_index():\n",
    "    ans,indx=10**16,-1\n",
    "    for ind,val in enumerate(vals):\n",
    "        if val[1]>=0 and val[1]<ans and val[0] not in st:\n",
    "            ans=val[1]\n",
    "            indx=ind\n",
    "    return indx\n",
    "\n",
    "def min_st():\n",
    "    vals[1]=(-1,0)\n",
    "    for _ in range(n-1):\n",
    "        indx=min_index()\n",
    "        st.add(indx)\n",
    "        for node in g[indx]:\n",
    "            if node[0] not in st and (vals[node[0]][1]==-1 or vals[node[0]][1]>(vals[indx][1]+node[1])):\n",
    "                vals[node[0]]=(indx,vals[indx][1]+node[1])\n",
    "min_st()\n",
    "print(vals)"
   ]
  },
  {
   "cell_type": "markdown",
   "metadata": {},
   "source": [
    "#### mother nodes in a graph"
   ]
  },
  {
   "cell_type": "code",
   "execution_count": 2,
   "metadata": {},
   "outputs": [
    {
     "ename": "NameError",
     "evalue": "name 'n' is not defined",
     "output_type": "error",
     "traceback": [
      "\u001b[1;31m---------------------------------------------------------------------------\u001b[0m",
      "\u001b[1;31mNameError\u001b[0m                                 Traceback (most recent call last)",
      "\u001b[1;32m<ipython-input-2-2a5046c8e8a2>\u001b[0m in \u001b[0;36m<module>\u001b[1;34m()\u001b[0m\n\u001b[1;32m----> 1\u001b[1;33m \u001b[0mvis\u001b[0m\u001b[1;33m=\u001b[0m\u001b[1;33m[\u001b[0m\u001b[1;33m-\u001b[0m\u001b[1;36m1\u001b[0m \u001b[1;32mfor\u001b[0m \u001b[0m_\u001b[0m \u001b[1;32min\u001b[0m \u001b[0mrange\u001b[0m\u001b[1;33m(\u001b[0m\u001b[0mn\u001b[0m\u001b[1;33m+\u001b[0m\u001b[1;36m1\u001b[0m\u001b[1;33m)\u001b[0m\u001b[1;33m]\u001b[0m\u001b[1;33m\u001b[0m\u001b[0m\n\u001b[0m\u001b[0;32m      2\u001b[0m \u001b[1;32mdef\u001b[0m \u001b[0mdfs\u001b[0m\u001b[1;33m(\u001b[0m\u001b[0mnode\u001b[0m\u001b[1;33m,\u001b[0m\u001b[0mv\u001b[0m\u001b[1;33m)\u001b[0m\u001b[1;33m:\u001b[0m\u001b[1;33m\u001b[0m\u001b[0m\n\u001b[0;32m      3\u001b[0m     \u001b[1;32mglobal\u001b[0m \u001b[0mn\u001b[0m\u001b[1;33m\u001b[0m\u001b[0m\n\u001b[0;32m      4\u001b[0m     \u001b[0mv\u001b[0m\u001b[1;33m[\u001b[0m\u001b[0mnode\u001b[0m\u001b[1;33m]\u001b[0m\u001b[1;33m=\u001b[0m\u001b[1;32mTrue\u001b[0m\u001b[1;33m\u001b[0m\u001b[0m\n\u001b[0;32m      5\u001b[0m     \u001b[1;32mif\u001b[0m \u001b[0mv\u001b[0m\u001b[1;33m.\u001b[0m\u001b[0mcount\u001b[0m\u001b[1;33m(\u001b[0m\u001b[1;32mTrue\u001b[0m\u001b[1;33m)\u001b[0m\u001b[1;33m==\u001b[0m\u001b[0mn\u001b[0m\u001b[1;33m:\u001b[0m\u001b[1;33m\u001b[0m\u001b[0m\n",
      "\u001b[1;31mNameError\u001b[0m: name 'n' is not defined"
     ]
    }
   ],
   "source": [
    "vis=[-1 for _ in range(n+1)]\n",
    "def dfs(node,v):\n",
    "    global n\n",
    "    v[node]=True\n",
    "    if v.count(True)==n:\n",
    "        return 1\n",
    "    for i in g[node]:\n",
    "        if vis[i]==0:\n",
    "            return 0\n",
    "        elif (vis[i]==1) or (not v[i] and dfs(i,v)==1):\n",
    "            return 1\n",
    "    return 0\n",
    "def mother_nodes():\n",
    "    global n\n",
    "    v=[False for _ in range(n+1)]\n",
    "    for i in range(1,n+1):\n",
    "        if vis[i]==-1:\n",
    "            vis[i]=dfs(i,v.copy())\n",
    "    return [i for i in vis if vis[i]==1]"
   ]
  },
  {
   "cell_type": "code",
   "execution_count": null,
   "metadata": {},
   "outputs": [],
   "source": [
    "####"
   ]
  }
 ],
 "metadata": {
  "kernelspec": {
   "display_name": "Python 3",
   "language": "python",
   "name": "python3"
  },
  "language_info": {
   "codemirror_mode": {
    "name": "ipython",
    "version": 3
   },
   "file_extension": ".py",
   "mimetype": "text/x-python",
   "name": "python",
   "nbconvert_exporter": "python",
   "pygments_lexer": "ipython3",
   "version": "3.6.4"
  }
 },
 "nbformat": 4,
 "nbformat_minor": 2
}
