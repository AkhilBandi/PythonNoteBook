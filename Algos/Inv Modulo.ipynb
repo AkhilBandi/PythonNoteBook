{
 "cells": [
  {
   "cell_type": "code",
   "execution_count": 13,
   "metadata": {},
   "outputs": [],
   "source": [
    "#### a^p = a (mod p)\n",
    "#### a^(p-2) = a^-1 (mod p)"
   ]
  },
  {
   "cell_type": "code",
   "execution_count": 14,
   "metadata": {},
   "outputs": [],
   "source": [
    "### remainder of a^k with p"
   ]
  },
  {
   "cell_type": "code",
   "execution_count": 15,
   "metadata": {},
   "outputs": [],
   "source": [
    "def remain(a,k,p):\n",
    "#     print(a,k,p)\n",
    "    if k==0:\n",
    "        return 1\n",
    "    h=int(k/2)\n",
    "    hh=remain(a,h,p)\n",
    "    out=(hh*hh)%p\n",
    "    if k%2==1:\n",
    "        return (out*a)%p\n",
    "    return out"
   ]
  },
  {
   "cell_type": "code",
   "execution_count": 16,
   "metadata": {},
   "outputs": [],
   "source": [
    "#### ncr mod p"
   ]
  },
  {
   "cell_type": "code",
   "execution_count": 17,
   "metadata": {},
   "outputs": [],
   "source": [
    "def ncr(n,r,p):\n",
    "    num=1\n",
    "    for i in range(n-r+1,n+1):\n",
    "        num=(num*i)%p\n",
    "#     print(num)\n",
    "    for i in range(2,r+1):\n",
    "#         print(i)\n",
    "        num=(num*remain(i,p-2,p))%p\n",
    "    return num"
   ]
  },
  {
   "cell_type": "code",
   "execution_count": 18,
   "metadata": {},
   "outputs": [
    {
     "data": {
      "text/plain": [
       "13945573"
      ]
     },
     "execution_count": 18,
     "metadata": {},
     "output_type": "execute_result"
    }
   ],
   "source": [
    "ncr(1000000,67567,1000000007)"
   ]
  },
  {
   "cell_type": "code",
   "execution_count": null,
   "metadata": {},
   "outputs": [],
   "source": [
    "print('aa')"
   ]
  }
 ],
 "metadata": {
  "kernelspec": {
   "display_name": "Python 3",
   "language": "python",
   "name": "python3"
  },
  "language_info": {
   "codemirror_mode": {
    "name": "ipython",
    "version": 3
   },
   "file_extension": ".py",
   "mimetype": "text/x-python",
   "name": "python",
   "nbconvert_exporter": "python",
   "pygments_lexer": "ipython3",
   "version": "3.6.4"
  }
 },
 "nbformat": 4,
 "nbformat_minor": 2
}
