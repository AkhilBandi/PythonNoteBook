{
 "cells": [
  {
   "cell_type": "code",
   "execution_count": 1,
   "metadata": {
    "collapsed": true
   },
   "outputs": [],
   "source": [
    "import pandas as pd"
   ]
  },
  {
   "cell_type": "code",
   "execution_count": 52,
   "metadata": {
    "collapsed": true
   },
   "outputs": [],
   "source": [
    "xl = pd.read_excel(\"QC_Issue2.xlsx\")"
   ]
  },
  {
   "cell_type": "code",
   "execution_count": 53,
   "metadata": {
    "collapsed": false
   },
   "outputs": [
    {
     "data": {
      "text/html": [
       "<div>\n",
       "<table border=\"1\" class=\"dataframe\">\n",
       "  <thead>\n",
       "    <tr style=\"text-align: right;\">\n",
       "      <th></th>\n",
       "      <th>GCID</th>\n",
       "      <th>Batch Number</th>\n",
       "      <th>Approval Code</th>\n",
       "      <th>Reference Number</th>\n",
       "      <th>Seals Signature</th>\n",
       "      <th>Stuck</th>\n",
       "    </tr>\n",
       "  </thead>\n",
       "  <tbody>\n",
       "    <tr>\n",
       "      <th>0</th>\n",
       "      <td>6014851548115658</td>\n",
       "      <td>1131600</td>\n",
       "      <td>1733376852</td>\n",
       "      <td>245018</td>\n",
       "      <td>1112ffscB7EGEqorFtAzlworw</td>\n",
       "      <td>1111RpeRZwS45rByUPWKH1tYI</td>\n",
       "    </tr>\n",
       "    <tr>\n",
       "      <th>1</th>\n",
       "      <td>6014853926235489</td>\n",
       "      <td>1131600</td>\n",
       "      <td>1733376657</td>\n",
       "      <td>245004</td>\n",
       "      <td>1111VpSRLviet5TDHcYEfZnY6</td>\n",
       "      <td>111161FQnvCK9pCteD08i9enP</td>\n",
       "    </tr>\n",
       "    <tr>\n",
       "      <th>2</th>\n",
       "      <td>6014854035289729</td>\n",
       "      <td>1141935</td>\n",
       "      <td>1733376912</td>\n",
       "      <td>161819</td>\n",
       "      <td>1113VKdA6qPzftZGqDKBS41EK</td>\n",
       "      <td>1111VhJN9PGPqSo5mRPA7Q6Ws</td>\n",
       "    </tr>\n",
       "  </tbody>\n",
       "</table>\n",
       "</div>"
      ],
      "text/plain": [
       "               GCID  Batch Number  Approval Code  Reference Number  \\\n",
       "0  6014851548115658       1131600     1733376852            245018   \n",
       "1  6014853926235489       1131600     1733376657            245004   \n",
       "2  6014854035289729       1141935     1733376912            161819   \n",
       "\n",
       "             Seals Signature                      Stuck  \n",
       "0  1112ffscB7EGEqorFtAzlworw  1111RpeRZwS45rByUPWKH1tYI  \n",
       "1  1111VpSRLviet5TDHcYEfZnY6  111161FQnvCK9pCteD08i9enP  \n",
       "2  1113VKdA6qPzftZGqDKBS41EK  1111VhJN9PGPqSo5mRPA7Q6Ws  "
      ]
     },
     "execution_count": 53,
     "metadata": {},
     "output_type": "execute_result"
    }
   ],
   "source": [
    "xl"
   ]
  },
  {
   "cell_type": "code",
   "execution_count": 54,
   "metadata": {
    "collapsed": false
   },
   "outputs": [
    {
     "data": {
      "text/plain": [
       "0    1111RpeRZwS45rByUPWKH1tYI\n",
       "1    111161FQnvCK9pCteD08i9enP\n",
       "2    1111VhJN9PGPqSo5mRPA7Q6Ws\n",
       "Name: Stuck, dtype: object"
      ]
     },
     "execution_count": 54,
     "metadata": {},
     "output_type": "execute_result"
    }
   ],
   "source": [
    "xl['Stuck']"
   ]
  },
  {
   "cell_type": "code",
   "execution_count": 55,
   "metadata": {
    "collapsed": false
   },
   "outputs": [],
   "source": [
    "idemKeys = []\n",
    "for i in range(len(xl['GCID'])):\n",
    "    idemKeys.append(\"gcsharp.redeem.\"+ xl['Stuck'][i]+ '.'+str(xl['GCID'][i]))"
   ]
  },
  {
   "cell_type": "code",
   "execution_count": 56,
   "metadata": {
    "collapsed": false
   },
   "outputs": [
    {
     "data": {
      "text/plain": [
       "['gcsharp.redeem.1111RpeRZwS45rByUPWKH1tYI.6014851548115658',\n",
       " 'gcsharp.redeem.111161FQnvCK9pCteD08i9enP.6014853926235489',\n",
       " 'gcsharp.redeem.1111VhJN9PGPqSo5mRPA7Q6Ws.6014854035289729']"
      ]
     },
     "execution_count": 56,
     "metadata": {},
     "output_type": "execute_result"
    }
   ],
   "source": [
    "idemKeys"
   ]
  },
  {
   "cell_type": "code",
   "execution_count": 44,
   "metadata": {
    "collapsed": false
   },
   "outputs": [
    {
     "data": {
      "text/plain": [
       "55"
      ]
     },
     "execution_count": 44,
     "metadata": {},
     "output_type": "execute_result"
    }
   ],
   "source": [
    "len(idemKeys)"
   ]
  },
  {
   "cell_type": "code",
   "execution_count": null,
   "metadata": {
    "collapsed": true
   },
   "outputs": [],
   "source": []
  }
 ],
 "metadata": {
  "kernelspec": {
   "display_name": "Python [default]",
   "language": "python",
   "name": "python3"
  },
  "language_info": {
   "codemirror_mode": {
    "name": "ipython",
    "version": 3
   },
   "file_extension": ".py",
   "mimetype": "text/x-python",
   "name": "python",
   "nbconvert_exporter": "python",
   "pygments_lexer": "ipython3",
   "version": "3.5.2"
  }
 },
 "nbformat": 4,
 "nbformat_minor": 1
}
