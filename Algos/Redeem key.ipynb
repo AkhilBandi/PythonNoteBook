{
 "cells": [
  {
   "cell_type": "code",
   "execution_count": 1,
   "metadata": {},
   "outputs": [
    {
     "name": "stdout",
     "output_type": "stream",
     "text": [
      "gcsharp.redeem.1111jjDOQkp04akMsYI9hWVSB.6014853455048101\n",
      "gcsharp.redeem.11119FnXJ5GJrcI64xEhFFMjD.6014850688018678\n",
      "gcsharp.redeem.1111LQkhzp2y4rtcCjTEW7Yr2.6014853544557286\n",
      "gcsharp.redeem.1112Z0a7JjMMlORJUQ1TDTCqr.6014851345445360\n",
      "gcsharp.redeem.1112Z0a7JjMMlORJUQ1TDTCqr.6014853465229540\n",
      "gcsharp.redeem.1113lq35z0CMaRuOYCYWQAn5P.6014853132900831\n",
      "gcsharp.redeem.1112AwQo3LU9oFZ34EjE4ho1F.6014852627152410\n",
      "\n"
     ]
    }
   ],
   "source": [
    "\n",
    "import sys, os, datetime, time, base64\n",
    "\n",
    "os.system(\"cat redeemStuckWFs.txt | sed -e 's/.*REDEEM_TPV_CALL_REQUEST\\(.*\\), data=.*gcIdToAmountMap={\\(.*\\)}, accountIdToGCIdMap.*/\\\\1 | \\\\2/' >> acc_2_gcid_map2.txt\")\n",
    "\n",
    "acc_2gcid_map= open('acc_2_gcid_map2.txt', 'r')\n",
    "keys_2_delete= open('keys_2_delete2.txt', 'w')\n",
    "\n",
    "for gcid_maps in acc_2gcid_map:\n",
    "    gcid_maps=gcid_maps.strip()\n",
    "    if gcid_maps:\n",
    "        oldsignature=gcid_maps.split('|')[0]\n",
    "        oldsignature=oldsignature.strip()\n",
    "        signature=oldsignature.replace(\"/\", \"\")\n",
    "        gcids = gcid_maps.split('|')[1]\n",
    "        if gcids:\n",
    "            gcids=gcids.replace('\"','')\n",
    "            gcid = gcids.split(',')\n",
    "            for gc in gcid:\n",
    "                gc=gc.strip()\n",
    "                if gc:\n",
    "                    single_gc=gc.split(':')[0]\n",
    "                    keys_2_delete.write(\"gcsharp.redeem.\"+signature+\".\"+single_gc+\"\\n\")\n",
    "\n",
    "acc_2gcid_map.close()\n",
    "keys_2_delete.close()\n",
    "\n",
    "os.remove(\"acc_2_gcid_map2.txt\")\n",
    "f = open('keys_2_delete2.txt', 'r')\n",
    "file_contents = f.read()\n",
    "print (file_contents)\n",
    "keys_2_delete.close()\n",
    "os.remove(\"keys_2_delete2.txt\") # You may comment this out if you want to retain the file with keys"
   ]
  },
  {
   "cell_type": "code",
   "execution_count": null,
   "metadata": {
    "collapsed": true
   },
   "outputs": [],
   "source": []
  }
 ],
 "metadata": {
  "anaconda-cloud": {},
  "kernelspec": {
   "display_name": "Python 3",
   "language": "python",
   "name": "python3"
  },
  "language_info": {
   "codemirror_mode": {
    "name": "ipython",
    "version": 3
   },
   "file_extension": ".py",
   "mimetype": "text/x-python",
   "name": "python",
   "nbconvert_exporter": "python",
   "pygments_lexer": "ipython3",
   "version": "3.7.3"
  }
 },
 "nbformat": 4,
 "nbformat_minor": 1
}
