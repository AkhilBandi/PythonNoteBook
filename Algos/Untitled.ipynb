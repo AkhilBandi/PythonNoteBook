{
 "cells": [
  {
   "cell_type": "code",
   "execution_count": 26,
   "id": "c81f14d7",
   "metadata": {},
   "outputs": [],
   "source": [
    "def unlockingKey(key):\n",
    "    dit = {}\n",
    "    while key > 0 :\n",
    "        p = key % 10\n",
    "        if p not in dit :\n",
    "            dit[p] = 0\n",
    "        dit[p] += 1\n",
    "        key //= 10\n",
    "    answer = \"\"\n",
    "    print(dit)\n",
    "    f  = True\n",
    "    for i in range(1, 9) :\n",
    "        while i in dit and dit[i] > 0 :\n",
    "            answer += str(i)\n",
    "            dit[i]-=1\n",
    "            if f :\n",
    "                f = False\n",
    "        if f is False and 0 in dit and dit[0] > 0:\n",
    "            while dit[0] > 0 :\n",
    "                answer +=  str(0)\n",
    "                dit[0]-=1\n",
    "    print(dit)\n",
    "    return answer"
   ]
  },
  {
   "cell_type": "code",
   "execution_count": 27,
   "id": "00a75314",
   "metadata": {},
   "outputs": [
    {
     "name": "stdout",
     "output_type": "stream",
     "text": [
      "{0: 1, 5: 1, 6: 1, 1: 1}\n",
      "{0: 0, 5: 0, 6: 0, 1: 0}\n"
     ]
    },
    {
     "data": {
      "text/plain": [
       "'1056'"
      ]
     },
     "execution_count": 27,
     "metadata": {},
     "output_type": "execute_result"
    }
   ],
   "source": [
    "unlockingKey(1650)"
   ]
  },
  {
   "cell_type": "code",
   "execution_count": null,
   "id": "0b073547",
   "metadata": {},
   "outputs": [],
   "source": []
  }
 ],
 "metadata": {
  "kernelspec": {
   "display_name": "Python 3 (ipykernel)",
   "language": "python",
   "name": "python3"
  },
  "language_info": {
   "codemirror_mode": {
    "name": "ipython",
    "version": 3
   },
   "file_extension": ".py",
   "mimetype": "text/x-python",
   "name": "python",
   "nbconvert_exporter": "python",
   "pygments_lexer": "ipython3",
   "version": "3.10.0"
  }
 },
 "nbformat": 4,
 "nbformat_minor": 5
}
