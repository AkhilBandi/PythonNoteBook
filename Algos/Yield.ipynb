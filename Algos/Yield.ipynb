{
 "cells": [
  {
   "cell_type": "code",
   "execution_count": 1,
   "metadata": {},
   "outputs": [],
   "source": [
    "#### Yield "
   ]
  },
  {
   "cell_type": "code",
   "execution_count": 24,
   "metadata": {},
   "outputs": [],
   "source": [
    "class yieldclass:\n",
    "    def __init__(self):\n",
    "        self.val=[1,2,3,4]\n",
    "        self.hh=None\n",
    "    def yiely(self):\n",
    "#         print(\"hey you called me\")\n",
    "        for i in self.val:\n",
    "            self.hh=i\n",
    "#             print(self.hh)\n",
    "            yield self.hh\n"
   ]
  },
  {
   "cell_type": "code",
   "execution_count": 25,
   "metadata": {},
   "outputs": [
    {
     "name": "stdout",
     "output_type": "stream",
     "text": [
      "['__class__', '__delattr__', '__dict__', '__dir__', '__doc__', '__eq__', '__format__', '__ge__', '__getattribute__', '__gt__', '__hash__', '__init__', '__init_subclass__', '__le__', '__lt__', '__module__', '__ne__', '__new__', '__reduce__', '__reduce_ex__', '__repr__', '__setattr__', '__sizeof__', '__str__', '__subclasshook__', '__weakref__', 'hh', 'val', 'yiely']\n",
      "<generator object yieldclass.yiely at 0x000002BB53F9C1A8>\n",
      "<generator object yieldclass.yiely at 0x000002BB53F9C1A8>\n",
      "<generator object yieldclass.yiely at 0x000002BB53F9C1A8>\n",
      "<generator object yieldclass.yiely at 0x000002BB53F9C1A8>\n",
      "<generator object yieldclass.yiely at 0x000002BB53F9C1A8>\n",
      "<generator object yieldclass.yiely at 0x000002BB53F9C1A8>\n"
     ]
    }
   ],
   "source": [
    "y=yieldclass()\n",
    "print(dir(y))\n",
    "n=6\n",
    "while n>0:\n",
    "    n-=1\n",
    "    print(y.yiely())\n",
    "#     print(y.hh)"
   ]
  },
  {
   "cell_type": "code",
   "execution_count": null,
   "metadata": {},
   "outputs": [],
   "source": [
    "def yys"
   ]
  }
 ],
 "metadata": {
  "kernelspec": {
   "display_name": "Python 3",
   "language": "python",
   "name": "python3"
  },
  "language_info": {
   "codemirror_mode": {
    "name": "ipython",
    "version": 3
   },
   "file_extension": ".py",
   "mimetype": "text/x-python",
   "name": "python",
   "nbconvert_exporter": "python",
   "pygments_lexer": "ipython3",
   "version": "3.6.4"
  }
 },
 "nbformat": 4,
 "nbformat_minor": 2
}
