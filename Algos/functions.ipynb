{
 "cells": [
  {
   "cell_type": "code",
   "execution_count": 1,
   "metadata": {
    "collapsed": false
   },
   "outputs": [
    {
     "name": "stdout",
     "output_type": "stream",
     "text": [
      "2\n"
     ]
    }
   ],
   "source": [
    "def try_and(x):\n",
    "    if x:\n",
    "        x and 1==2\n",
    "    print(2)\n",
    "try_and(\"s\")"
   ]
  },
  {
   "cell_type": "code",
   "execution_count": 17,
   "metadata": {
    "collapsed": false
   },
   "outputs": [
    {
     "name": "stdout",
     "output_type": "stream",
     "text": [
      "\n",
      "Following are the keys to be queried in the DB: \n",
      "\n",
      "gcsharp.redeem.1111cFZvyeGAcTiI3qirFm2uJ.6014853415078453\n",
      "gcsharp.redeem.1112JmZLfy4e8bLHVQ14deOed.6014853413314575\n",
      "gcsharp.redeem.1111rBXWbtdUZBwfnlpHreoOz.6014852856648074\n",
      "gcsharp.redeem.1111rBXWbtdUZBwfnlpHreoOz.6014852854022967\n",
      "gcsharp.redeem.1113gNVpO35p10G6jDvAYdOjJ.6014852621684408\n",
      "gcsharp.redeem.1113QPKpYGt7TM3jQjrA4epy6.6014853175923008\n",
      "gcsharp.redeem.1113QPKpYGt7TM3jQjrA4epy6.6014853171284081\n",
      "gcsharp.redeem.1113jyNDg1N55BpyfDxGnzGnp.6014852851621200\n",
      "gcsharp.redeem.1113EWDGVzN46nS0oFN3ZMnak.6014852622310463\n",
      "gcsharp.redeem.1111EEggtD4DFCtdKxgqVEHxR.6014853373070171\n",
      "gcsharp.redeem.1111EEggtD4DFCtdKxgqVEHxR.6014853419816616\n",
      "gcsharp.redeem.1112YR2kP4Y3Vcaa8t5lUg5nI.6014852646777618\n",
      "gcsharp.redeem.1112bM1NgGIBK3uUnfsGrG5xC.6014852839061873\n",
      "gcsharp.redeem.11139NZ5IYCNRGqtrNgxxlSQw.6014853343436053\n",
      "gcsharp.redeem.1112FaYpWVDWewIwUbakHq6Xb.6014853371659471\n",
      "gcsharp.redeem.1112WIRqSdGBmBUMdwb9bFUyK.6014853021723944\n",
      "gcsharp.redeem.1112WvPrnSMbm1pM8PUVST69B.6014852851934189\n",
      "gcsharp.redeem.1113eRMMXMt1SwOACLCI8PtwJ.6014853131018887\n",
      "gcsharp.redeem.1113eRMMXMt1SwOACLCI8PtwJ.6014851542843121\n",
      "gcsharp.redeem.1113i2z4JYrz1DkAp7ziMf7lX.6014852951932767\n",
      "gcsharp.redeem.1113i2z4JYrz1DkAp7ziMf7lX.6014852956736737\n",
      "gcsharp.redeem.1113i2z4JYrz1DkAp7ziMf7lX.6014853247568404\n",
      "gcsharp.redeem.1111no2pV2IVt8ABzLEiYd5nM.6014853371998824\n",
      "gcsharp.redeem.1111no2pV2IVt8ABzLEiYd5nM.6014853377292490\n",
      "gcsharp.redeem.1111no2pV2IVt8ABzLEiYd5nM.6014853372210036\n",
      "gcsharp.redeem.111273SJMjqY9LEBtYv1GzVJW.6014853137448735\n",
      "gcsharp.redeem.11126IoMoG6m8KoW1qIU4uUEk.6014853346772084\n",
      "gcsharp.redeem.11126IoMoG6m8KoW1qIU4uUEk.6014853014092210\n",
      "gcsharp.redeem.1112Z7BFvZHsxgUvH1vBRA0wm.6014853378696898\n",
      "gcsharp.redeem.1112Z7BFvZHsxgUvH1vBRA0wm.6014853371083756\n",
      "gcsharp.redeem.1113GSLRpOTDOtTH9yVCRWxzV.6014853014805945\n",
      "gcsharp.redeem.1111Mn81fUWcR34wubZD3oC58.6014853344948163\n",
      "gcsharp.redeem.11113IV0IaRUEKRe0hXg3y2WK.6014853413211424\n",
      "gcsharp.redeem.1113ee1yr9WHy09yZecQEqtdB.6014852899419364\n",
      "gcsharp.redeem.1111BZcD198QVPs8AIcNVLHxQ.6014853138619752\n",
      "gcsharp.redeem.1111zaIdnovJskY7EDzqBt8AF.6014853243211178\n",
      "gcsharp.redeem.1111zaIdnovJskY7EDzqBt8AF.6014853241311650\n",
      "gcsharp.redeem.1111zaIdnovJskY7EDzqBt8AF.6014853342716902\n",
      "gcsharp.redeem.1111zaIdnovJskY7EDzqBt8AF.6014853242024938\n",
      "gcsharp.redeem.1111NsRnFP4O9hWQLK2BDxXuI.6014853415650664\n",
      "gcsharp.redeem.11115q4VTuzQ0963LfyjeAEF9.6014853375578101\n",
      "gcsharp.redeem.1111W347mki1zjJBC2ArDCUxi.6014853136807127\n",
      "gcsharp.redeem.11117QkcqcqstgI1wMmmJfrcA.6014853341070790\n",
      "gcsharp.redeem.11117QkcqcqstgI1wMmmJfrcA.6014853417749763\n",
      "gcsharp.redeem.11121tuGvXHpnRKBsbQdLN1ci.6014852808596364\n",
      "gcsharp.redeem.111182TFKJYyq5VTVFYLWwxWF.6014853417317719\n",
      "gcsharp.redeem.1113ZvX6J3QwAAcMAyJ32Rsso.6014852628392730\n",
      "gcsharp.redeem.1113ZvX6J3QwAAcMAyJ32Rsso.6014852622361329\n",
      "gcsharp.redeem.1111B0HA7EueCsCwhEHoUK0Px.6014853417357843\n",
      "gcsharp.redeem.1112NaCFl2JAqDBGl6vkclEvb.6014852503717182\n",
      "gcsharp.redeem.1112NaCFl2JAqDBGl6vkclEvb.6014852855504674\n",
      "gcsharp.redeem.1113bqX4JScshe8M7EzJf5BfD.6014853172329697\n",
      "gcsharp.redeem.11118cCkXEU0Jkuf1q8sGj4hW.6014853411436689\n",
      "gcsharp.redeem.1111UZ3t3Yo9k88QeIdYGnzNA.6014852629661457\n",
      "gcsharp.redeem.1111HGMEGfeDZr94kHEgCZBC9.6014852624521059\n",
      "gcsharp.redeem.1113T3HzTCqhpDXciLPOiBDWG.6014853415095393\n",
      "gcsharp.redeem.1112VlGIkgxvxfBdjTr7CIGv3.6014853136824574\n",
      "gcsharp.redeem.1112f2MCdeQLmcnIbWo9SO0in.6014853415444730\n",
      "gcsharp.redeem.1113GGrJgNaMbcLkWarngN0SY.6014853169050170\n",
      "gcsharp.redeem.1113GGrJgNaMbcLkWarngN0SY.6014852838189149\n",
      "gcsharp.redeem.1112XBOQD3KDe1pO7oLOgT2ko.6014852834126884\n",
      "gcsharp.redeem.1113EMlT8IfzQSXmBSepXh4tO.6014853178521349\n",
      "gcsharp.redeem.1113EMlT8IfzQSXmBSepXh4tO.6014852852379117\n",
      "gcsharp.redeem.1113JcXWzWkA9wiJMLuKJToNC.6014852645053715\n",
      "gcsharp.redeem.1113JcXWzWkA9wiJMLuKJToNC.6014852642675734\n",
      "gcsharp.redeem.1113JcXWzWkA9wiJMLuKJToNC.6014853175905074\n",
      "gcsharp.redeem.1113JcXWzWkA9wiJMLuKJToNC.6014852641297420\n",
      "gcsharp.redeem.1111LmrolfJ23BWC044aUFm1p.6014853415828034\n",
      "gcsharp.redeem.1111ic9HxBr4XAHsypQGXJYpv.6014857096050342\n",
      "gcsharp.redeem.1112vV2hnES07G3NIG3sFuJn1.6014853134077773\n",
      "gcsharp.redeem.1112P64LyuACOdAIKw4w01gQa.6014852833935562\n",
      "gcsharp.redeem.1111QxsXOSZ05pGplG3bMpLHP.6014852851497377\n",
      "gcsharp.redeem.1112UruPmKBo5gIEO8hAh88MP.6014853419388110\n",
      "gcsharp.redeem.1111uxpKv4M6yuh6onau8JziU.6014853162101640\n",
      "gcsharp.redeem.1111uxpKv4M6yuh6onau8JziU.6014853011243065\n",
      "gcsharp.redeem.1112qjYiacNuKIkm1f8LOv7p1.6014852641995336\n",
      "\n"
     ]
    }
   ],
   "source": [
    "#!/usr/bin/env python\n",
    "__author__ = 'jmothkur'\n",
    "\n",
    "'''\n",
    "Script which takes herd fetch activity blobs of redeem wfs and provides the keys to be queried in the DB.\n",
    "Steps:\n",
    "1. Process as Batch > Fetch Activity > Arguments: filterKey=herdDocumentUpdates&expr=herdDocumentUpdates.entity&filterRegex=.*gcIdToAmountMap.*\n",
    "2. Process all.\n",
    "3. Copy all of the blobs and save them in 'input.txt' file where the script is located.\n",
    "4. Run the script.py and it will print out all the stuck redeem wfs keys.\n",
    "'''\n",
    "\n",
    "import sys, os, datetime, time, base64\n",
    "\n",
    "os.system(\"cat redeemStuckWFs.txt | sed -e 's/.*REDEEM_TPV_CALL_REQUEST\\(.*\\), data=.*gcIdToAmountMap={\\(.*\\)}, accountIdToGCIdMap.*/\\\\1 | \\\\2/' >> acc_2_gcid_map.txt\")\n",
    "\n",
    "acc_2gcid_map= open('acc_2_gcid_map.txt', 'r')\n",
    "keys_2_delete= open('keys_2_delete.txt', 'w')\n",
    "\n",
    "for gcid_maps in acc_2gcid_map:\n",
    "    gcid_maps=gcid_maps.strip()\n",
    "    if gcid_maps:\n",
    "        oldsignature=gcid_maps.split('|')[0]\n",
    "        oldsignature=oldsignature.strip()\n",
    "        signature=oldsignature.replace(\"/\", \"\")\n",
    "        gcids = gcid_maps.split('|')[1]\n",
    "        if gcids:\n",
    "            gcids=gcids.replace('\"','')\n",
    "            gcid = gcids.split(',')\n",
    "            for gc in gcid:\n",
    "                gc=gc.strip()\n",
    "                if gc:\n",
    "                    single_gc=gc.split(':')[0]\n",
    "                    keys_2_delete.write(\"gcsharp.redeem.\"+signature+\".\"+single_gc+\"\\n\")\n",
    "\n",
    "acc_2gcid_map.close()\n",
    "keys_2_delete.close()\n",
    "\n",
    "os.remove(\"acc_2_gcid_map.txt\")\n",
    "print(\"\\nFollowing are the keys to be queried in the DB: \\n\")\n",
    "f = open('keys_2_delete.txt', 'r')\n",
    "file_contents = f.read()\n",
    "print (file_contents)\n",
    "keys_2_delete.close()\n",
    "os.remove(\"keys_2_delete.txt\") # You may comment this out if you want to retain the file with keys"
   ]
  },
  {
   "cell_type": "code",
   "execution_count": 11,
   "metadata": {
    "collapsed": true
   },
   "outputs": [],
   "source": [
    "import re"
   ]
  },
  {
   "cell_type": "code",
   "execution_count": null,
   "metadata": {
    "collapsed": true
   },
   "outputs": [],
   "source": [
    "reg=re.compile(\"gcIdToAmountMap=(.*)accountIdToGCIdMap\")\n",
    "with open()"
   ]
  }
 ],
 "metadata": {
  "anaconda-cloud": {},
  "kernelspec": {
   "display_name": "Python [default]",
   "language": "python",
   "name": "python3"
  },
  "language_info": {
   "codemirror_mode": {
    "name": "ipython",
    "version": 3
   },
   "file_extension": ".py",
   "mimetype": "text/x-python",
   "name": "python",
   "nbconvert_exporter": "python",
   "pygments_lexer": "ipython3",
   "version": "3.5.2"
  }
 },
 "nbformat": 4,
 "nbformat_minor": 2
}
