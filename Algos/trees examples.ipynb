{
 "cells": [
  {
   "cell_type": "code",
   "execution_count": 1,
   "metadata": {},
   "outputs": [],
   "source": [
    "#### Diagonal nodes print"
   ]
  },
  {
   "cell_type": "code",
   "execution_count": 2,
   "metadata": {},
   "outputs": [],
   "source": [
    "def diagonal_print(root):\n",
    "    import collections\n",
    "    q1=collections.deque()\n",
    "    q2=collections.deque()\n",
    "    q1.append(root)\n",
    "    q2.append(1)\n",
    "    a=[[]]\n",
    "    while q1:\n",
    "        root=q1.popleft()\n",
    "        lev=q2.popleft()\n",
    "        if len(a)<lev:\n",
    "            a.append([])\n",
    "        a[lev].append(root.val)\n",
    "        if root.left:\n",
    "            q1.append(root.left)\n",
    "            q2.append(lev)\n",
    "        if root.right:\n",
    "            q1.append(root.right)\n",
    "            q2.append(lev+1)\n",
    "            "
   ]
  },
  {
   "cell_type": "code",
   "execution_count": null,
   "metadata": {},
   "outputs": [],
   "source": []
  }
 ],
 "metadata": {
  "kernelspec": {
   "display_name": "Python 3",
   "language": "python",
   "name": "python3"
  },
  "language_info": {
   "codemirror_mode": {
    "name": "ipython",
    "version": 3
   },
   "file_extension": ".py",
   "mimetype": "text/x-python",
   "name": "python",
   "nbconvert_exporter": "python",
   "pygments_lexer": "ipython3",
   "version": "3.6.4"
  }
 },
 "nbformat": 4,
 "nbformat_minor": 2
}
