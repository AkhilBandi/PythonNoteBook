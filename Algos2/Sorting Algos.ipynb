{
 "cells": [
  {
   "cell_type": "code",
   "execution_count": 43,
   "metadata": {
    "collapsed": false
   },
   "outputs": [
    {
     "data": {
      "text/plain": [
       "4407603976"
      ]
     },
     "execution_count": 43,
     "metadata": {},
     "output_type": "execute_result"
    }
   ],
   "source": [
    "a=[3,5,1,9,0]"
   ]
  },
  {
   "cell_type": "markdown",
   "metadata": {},
   "source": [
    "### Binary sort"
   ]
  },
  {
   "cell_type": "code",
   "execution_count": 44,
   "metadata": {
    "collapsed": false
   },
   "outputs": [
    {
     "name": "stdout",
     "output_type": "stream",
     "text": [
      "4407603976\n",
      "4407603976\n",
      "4407603976\n"
     ]
    },
    {
     "data": {
      "text/plain": [
       "[0, 1, 3, 5, 9]"
      ]
     },
     "execution_count": 44,
     "metadata": {},
     "output_type": "execute_result"
    }
   ],
   "source": [
    "def partition(a, i, j):\n",
    "    c = i\n",
    "    while i<j:\n",
    "        if a[i] < a[j] :\n",
    "            a[c], a[i] = a[i], a[c]\n",
    "            c += 1\n",
    "        i+=1\n",
    "    a[c], a[j] = a[j], a[c]\n",
    "    return c\n",
    "def quickSort(a, i, j):\n",
    "    if i < j:\n",
    "        p = partition(a, i, j)\n",
    "        quickSort(a, i, p-1)\n",
    "        quickSort(a, p+1, j)\n",
    "        \n",
    "quickSort(a, 0, len(a)-1)\n",
    "a"
   ]
  },
  {
   "cell_type": "markdown",
   "metadata": {},
   "source": [
    "### Merge Sort"
   ]
  },
  {
   "cell_type": "code",
   "execution_count": 45,
   "metadata": {
    "collapsed": false
   },
   "outputs": [
    {
     "data": {
      "text/plain": [
       "[0, 1, 3, 5, 9]"
      ]
     },
     "execution_count": 45,
     "metadata": {},
     "output_type": "execute_result"
    }
   ],
   "source": [
    "a=[3,5,1,9,0]\n",
    "def mergeSort(a):\n",
    "    n = len(a)\n",
    "    if n>1:\n",
    "        mid = int(n/2)\n",
    "        L, R = a[:mid], a[mid:]\n",
    "        mergeSort(L)\n",
    "        mergeSort(R)\n",
    "        i,j,k =0,0,0\n",
    "        ll, rr = len(L), len(R)\n",
    "        while i<ll and j<rr:\n",
    "            if L[i]<R[j]:\n",
    "                a[k] = L[i]\n",
    "                k+=1\n",
    "                i+=1\n",
    "            else:\n",
    "                a[k] = R[j]\n",
    "                k+=1\n",
    "                j+=1\n",
    "        while i<ll:\n",
    "            a[k]=L[i]\n",
    "            i+=1\n",
    "            k+=1\n",
    "        while j<rr:\n",
    "            a[k]=R[j]\n",
    "            j+=1\n",
    "            k+=1\n",
    "mergeSort(a)\n",
    "a"
   ]
  },
  {
   "cell_type": "code",
   "execution_count": null,
   "metadata": {
    "collapsed": true
   },
   "outputs": [],
   "source": []
  }
 ],
 "metadata": {
  "anaconda-cloud": {},
  "kernelspec": {
   "display_name": "Python [default]",
   "language": "python",
   "name": "python3"
  },
  "language_info": {
   "codemirror_mode": {
    "name": "ipython",
    "version": 3
   },
   "file_extension": ".py",
   "mimetype": "text/x-python",
   "name": "python",
   "nbconvert_exporter": "python",
   "pygments_lexer": "ipython3",
   "version": "3.5.2"
  }
 },
 "nbformat": 4,
 "nbformat_minor": 1
}
