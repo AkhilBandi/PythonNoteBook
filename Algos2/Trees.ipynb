{
 "cells": [
  {
   "cell_type": "markdown",
   "metadata": {},
   "source": [
    "### Tree implementation"
   ]
  },
  {
   "cell_type": "code",
   "execution_count": 1,
   "metadata": {},
   "outputs": [],
   "source": [
    "class Tree:\n",
    "    def __init__(self, val, left, right):\n",
    "        self.val=val\n",
    "        self.left=left\n",
    "        self.right=right"
   ]
  },
  {
   "cell_type": "markdown",
   "metadata": {},
   "source": [
    "#### Create Tree"
   ]
  },
  {
   "cell_type": "code",
   "execution_count": 2,
   "metadata": {},
   "outputs": [],
   "source": [
    "a= [3,1,5,2,8,4]"
   ]
  },
  {
   "cell_type": "code",
   "execution_count": 3,
   "metadata": {},
   "outputs": [],
   "source": [
    "def createBinaryTree(root, val):\n",
    "    if not root:\n",
    "        root = Tree(val, None, None)\n",
    "        return root\n",
    "    if root.val >= val:\n",
    "        root.left = createBinaryTree(root.left, val)\n",
    "    else:\n",
    "        root.right = createBinaryTree(root.right, val)\n",
    "    return root\n",
    "tree = None\n",
    "for i in a:\n",
    "    tree=createBinaryTree(tree, i)"
   ]
  },
  {
   "cell_type": "markdown",
   "metadata": {},
   "source": [
    "## Reccursive"
   ]
  },
  {
   "cell_type": "markdown",
   "metadata": {},
   "source": [
    "### InOrder LNR"
   ]
  },
  {
   "cell_type": "code",
   "execution_count": 4,
   "metadata": {},
   "outputs": [
    {
     "name": "stdout",
     "output_type": "stream",
     "text": [
      "1\n",
      "2\n",
      "3\n",
      "4\n",
      "5\n",
      "8\n"
     ]
    }
   ],
   "source": [
    "def inOrder(node):\n",
    "    if not node:\n",
    "        return\n",
    "    inOrder(node.left)\n",
    "    print(node.val)\n",
    "    inOrder(node.right)\n",
    "inOrder(tree)"
   ]
  },
  {
   "cell_type": "markdown",
   "metadata": {},
   "source": [
    "### PreOrder NLR"
   ]
  },
  {
   "cell_type": "code",
   "execution_count": 5,
   "metadata": {},
   "outputs": [
    {
     "name": "stdout",
     "output_type": "stream",
     "text": [
      "3\n",
      "1\n",
      "2\n",
      "5\n",
      "4\n",
      "8\n"
     ]
    }
   ],
   "source": [
    "def preOrder(node):\n",
    "    if not node:\n",
    "        return\n",
    "    print(node.val)\n",
    "    preOrder(node.left)\n",
    "    preOrder(node.right)\n",
    "preOrder(tree)"
   ]
  },
  {
   "cell_type": "markdown",
   "metadata": {},
   "source": [
    "### PostOrder LRN"
   ]
  },
  {
   "cell_type": "code",
   "execution_count": 6,
   "metadata": {},
   "outputs": [
    {
     "name": "stdout",
     "output_type": "stream",
     "text": [
      "2\n",
      "1\n",
      "4\n",
      "8\n",
      "5\n",
      "3\n"
     ]
    }
   ],
   "source": [
    "def postOrder(node):\n",
    "    if not node:\n",
    "        return\n",
    "    postOrder(node.left)\n",
    "    postOrder(node.right)\n",
    "    print(node.val)\n",
    "postOrder(tree)"
   ]
  },
  {
   "cell_type": "markdown",
   "metadata": {},
   "source": [
    "## Iterative"
   ]
  },
  {
   "cell_type": "markdown",
   "metadata": {},
   "source": [
    "### Inorder LNR"
   ]
  },
  {
   "cell_type": "code",
   "execution_count": 7,
   "metadata": {},
   "outputs": [
    {
     "name": "stdout",
     "output_type": "stream",
     "text": [
      "1 2 3 4 5 8 \n"
     ]
    }
   ],
   "source": [
    "def printArray(b):\n",
    "    for i in b:\n",
    "        print(i.val, end=\" \")\n",
    "    print()\n",
    "def inOrderIt(node):\n",
    "    a=[]\n",
    "    root = node\n",
    "    while a or root:\n",
    "        while root:\n",
    "            a.append(root)\n",
    "            root = root.left\n",
    "        root = a.pop()\n",
    "        print(root.val, end = \" \")\n",
    "        root = root.right\n",
    "    print()\n",
    "inOrderIt(tree)"
   ]
  },
  {
   "cell_type": "markdown",
   "metadata": {},
   "source": [
    "### PreOrder NLR"
   ]
  },
  {
   "cell_type": "code",
   "execution_count": 8,
   "metadata": {},
   "outputs": [
    {
     "name": "stdout",
     "output_type": "stream",
     "text": [
      "3 1 2 5 4 8 \n"
     ]
    }
   ],
   "source": [
    "def preOrderIt(node):\n",
    "    a= []\n",
    "    root = node\n",
    "    while a or root:\n",
    "        while root :\n",
    "            print(root.val, end=\" \")\n",
    "            if root.right:\n",
    "                a.append(root.right)\n",
    "            root = root.left\n",
    "        if a:\n",
    "            root = a.pop()\n",
    "    print()\n",
    "preOrderIt(tree)"
   ]
  },
  {
   "cell_type": "markdown",
   "metadata": {},
   "source": [
    "### PostOrder LRN"
   ]
  },
  {
   "cell_type": "code",
   "execution_count": 9,
   "metadata": {},
   "outputs": [
    {
     "name": "stdout",
     "output_type": "stream",
     "text": [
      "2 1 4 8 5 3 \n"
     ]
    }
   ],
   "source": [
    "def postOrderIt(node):\n",
    "    a=[]\n",
    "    root = node\n",
    "    while a or root:\n",
    "        while root:\n",
    "            if root.right:\n",
    "                a.append(root.right)\n",
    "            a.append(root)\n",
    "            root = root.left\n",
    "        root = a.pop()\n",
    "        if a and root.right == a[-1]:\n",
    "            temp = a.pop()\n",
    "            a.append(root)\n",
    "            root = temp\n",
    "        else:\n",
    "            print(root.val, end=\" \")\n",
    "            root = None\n",
    "    print()\n",
    "postOrderIt(tree)"
   ]
  },
  {
   "cell_type": "code",
   "execution_count": 49,
   "metadata": {},
   "outputs": [],
   "source": [
    "class BinaryTree:\n",
    "    def __init__(self, arr):\n",
    "        self.arr = arr\n",
    "        self._createBT()\n",
    "        \n",
    "    def _createBT(self):\n",
    "        if not self.arr:\n",
    "            return\n",
    "        self.tree = None\n",
    "        for i in self.arr:\n",
    "            self.tree = self._createTree(self.tree, i)\n",
    "            \n",
    "    def _createTree(self, node, val):\n",
    "        if not node:\n",
    "            node = Tree(val, None, None)\n",
    "            return node\n",
    "        if node.val >= val:\n",
    "            node.left = self._createTree(node.left, val)\n",
    "        else:\n",
    "            node.right = self._createTree(node.right, val)\n",
    "        return node\n",
    "    def inOrder(self):\n",
    "        self._inOrder(self.tree)\n",
    "        print()\n",
    "        \n",
    "    def _inOrder(self,node):\n",
    "        if not node:\n",
    "            return\n",
    "        self._inOrder(node.left)\n",
    "        print(node.val, end = \" \")\n",
    "        self._inOrder(node.right)\n",
    "    def postOrder(self):\n",
    "        self._postOrder(self.tree)\n",
    "        print()\n",
    "    def _postOrder(self,node):\n",
    "        if not node:\n",
    "            return\n",
    "        self._postOrder(node.left)\n",
    "        self._postOrder(node.right)\n",
    "        print(node.val, end=\" \")\n",
    "    def preOrder(self):\n",
    "        self._preOrder(self.tree)\n",
    "        print()\n",
    "    def _preOrder(self,node):\n",
    "        if not node:\n",
    "            return \n",
    "        print(node.val, end=\" \")\n",
    "        self._preOrder(node.left)\n",
    "        self._preOrder(node.right)"
   ]
  },
  {
   "cell_type": "code",
   "execution_count": 50,
   "metadata": {},
   "outputs": [],
   "source": [
    "bt = BinaryTree(a)"
   ]
  },
  {
   "cell_type": "code",
   "execution_count": 51,
   "metadata": {},
   "outputs": [
    {
     "data": {
      "text/plain": [
       "[3, 1, 5, 2, 8, 4]"
      ]
     },
     "execution_count": 51,
     "metadata": {},
     "output_type": "execute_result"
    }
   ],
   "source": [
    "bt.arr"
   ]
  },
  {
   "cell_type": "code",
   "execution_count": 52,
   "metadata": {},
   "outputs": [
    {
     "data": {
      "text/plain": [
       "<__main__.Tree at 0x10b9ad1d0>"
      ]
     },
     "execution_count": 52,
     "metadata": {},
     "output_type": "execute_result"
    }
   ],
   "source": [
    "bt.tree"
   ]
  },
  {
   "cell_type": "code",
   "execution_count": 54,
   "metadata": {},
   "outputs": [
    {
     "name": "stdout",
     "output_type": "stream",
     "text": [
      "1 2 3 4 5 8 \n"
     ]
    }
   ],
   "source": [
    "bt.inOrder()"
   ]
  },
  {
   "cell_type": "code",
   "execution_count": 70,
   "metadata": {},
   "outputs": [],
   "source": [
    "class BinaryTreeIter:\n",
    "    def __init__(self, arr):\n",
    "        self.arr = arr\n",
    "        self.tree = None\n",
    "        self._createBinaryTree()\n",
    "    def _createBinaryTree(self):\n",
    "        for i in self.arr:\n",
    "            self.tree = self._placeNode(self.tree, i)\n",
    "    def _placeNode(self, node, val):\n",
    "        if not node:\n",
    "            return  Tree(val, None, None);\n",
    "        if node.val >= val:\n",
    "            node.left = self._placeNode(node.left, val)\n",
    "        else:\n",
    "            node.right = self._placeNode(node.right, val)\n",
    "        return node\n",
    "    def inOrder(self):\n",
    "        a = []\n",
    "        root = self.tree\n",
    "        while root or a:\n",
    "            while root:\n",
    "                a.append(root)\n",
    "                root = root.left\n",
    "            root = a.pop()\n",
    "            if root :\n",
    "                print(root.val, end = \" \")\n",
    "                root = root.right\n",
    "        print()\n",
    "    def preOrder(self):\n",
    "        a = []\n",
    "        root = self.tree\n",
    "        while root or a:\n",
    "            while root:\n",
    "                print(root.val, end = \" \")\n",
    "                if root.right:\n",
    "                    a.append(root.right)\n",
    "                root = root.left\n",
    "            if a:\n",
    "                root = a.pop()\n",
    "        print()\n",
    "    def postOrder(self):\n",
    "        a = []\n",
    "        root = self.tree\n",
    "        while a or root :\n",
    "            while root :\n",
    "                if root.right:\n",
    "                    a.append(root.right)\n",
    "                a.append(root)\n",
    "                root = root.left\n",
    "            root = a.pop()\n",
    "            if a and root.right == a[-1]:\n",
    "                temp = a.pop()\n",
    "                a.append(root)\n",
    "                root = temp\n",
    "            else:\n",
    "                print(root.val, end = \" \")\n",
    "                root = None\n",
    "        print()"
   ]
  },
  {
   "cell_type": "code",
   "execution_count": 71,
   "metadata": {},
   "outputs": [],
   "source": [
    "bts = BinaryTreeIter(a)"
   ]
  },
  {
   "cell_type": "code",
   "execution_count": 72,
   "metadata": {},
   "outputs": [
    {
     "name": "stdout",
     "output_type": "stream",
     "text": [
      "1 2 3 4 5 8 \n"
     ]
    }
   ],
   "source": [
    "bts.inOrder()"
   ]
  },
  {
   "cell_type": "code",
   "execution_count": 73,
   "metadata": {},
   "outputs": [
    {
     "name": "stdout",
     "output_type": "stream",
     "text": [
      "3 1 2 5 4 8 \n"
     ]
    }
   ],
   "source": [
    "bts.preOrder()"
   ]
  },
  {
   "cell_type": "code",
   "execution_count": 74,
   "metadata": {},
   "outputs": [
    {
     "name": "stdout",
     "output_type": "stream",
     "text": [
      "2 1 4 8 5 3 \n"
     ]
    }
   ],
   "source": [
    "bts.postOrder()"
   ]
  },
  {
   "cell_type": "markdown",
   "metadata": {},
   "source": [
    "### Clone Linked List and random pointer"
   ]
  },
  {
   "cell_type": "code",
   "execution_count": null,
   "metadata": {},
   "outputs": [],
   "source": []
  }
 ],
 "metadata": {
  "kernelspec": {
   "display_name": "Python 3",
   "language": "python",
   "name": "python3"
  },
  "language_info": {
   "codemirror_mode": {
    "name": "ipython",
    "version": 3
   },
   "file_extension": ".py",
   "mimetype": "text/x-python",
   "name": "python",
   "nbconvert_exporter": "python",
   "pygments_lexer": "ipython3",
   "version": "3.7.3"
  }
 },
 "nbformat": 4,
 "nbformat_minor": 1
}
