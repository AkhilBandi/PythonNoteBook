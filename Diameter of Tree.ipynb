{
 "cells": [
  {
   "cell_type": "code",
   "execution_count": null,
   "metadata": {},
   "outputs": [],
   "source": [
    "#### Tree"
   ]
  },
  {
   "cell_type": "code",
   "execution_count": 33,
   "metadata": {},
   "outputs": [
    {
     "name": "stdout",
     "output_type": "stream",
     "text": [
      "8\n",
      "1 2\n",
      "2 3\n",
      "2 4\n",
      "4 7\n",
      "3 5\n",
      "3 6\n",
      "1 8\n"
     ]
    }
   ],
   "source": [
    "n=int(input())\n",
    "i=1\n",
    "g=[[] for i in range(n+1)]\n",
    "while i<n:\n",
    "    i+=1\n",
    "    uv=input().split(\" \")\n",
    "    g[int(uv[0])].append(int(uv[1]))\n",
    "    g[int(uv[1])].append(int(uv[0]))"
   ]
  },
  {
   "cell_type": "code",
   "execution_count": 34,
   "metadata": {},
   "outputs": [
    {
     "data": {
      "text/plain": [
       "5"
      ]
     },
     "execution_count": 34,
     "metadata": {},
     "output_type": "execute_result"
    }
   ],
   "source": [
    "vis=[False for i in range(n+1)]\n",
    "diam=0\n",
    "\n",
    "def diameter(x):\n",
    "    global diam\n",
    "    vis[x]=True\n",
    "    m1,m2=0,0\n",
    "    for i in g[x]:\n",
    "        \n",
    "        if not vis[i]:\n",
    "            y=diameter(i)\n",
    "            if m1<y:\n",
    "                m1,m2=y,m1\n",
    "            elif m2<y:\n",
    "                m2=y\n",
    "    diam=max((m1+m2)+1,diam)\n",
    "    return m1+1\n",
    "diameter(1)\n",
    "diam"
   ]
  },
  {
   "cell_type": "code",
   "execution_count": 24,
   "metadata": {},
   "outputs": [],
   "source": [
    "#### Nodes involved in diameter"
   ]
  },
  {
   "cell_type": "code",
   "execution_count": 46,
   "metadata": {},
   "outputs": [
    {
     "data": {
      "text/plain": [
       "[[], [3, 1], [0, 2, 2], [0, 1, 1], [0, 1], [0], [0], [0], [0]]"
      ]
     },
     "execution_count": 46,
     "metadata": {},
     "output_type": "execute_result"
    }
   ],
   "source": [
    "depth=[[] for i in range(n+1)]\n",
    "vis=[False for i in range(n+1)]\n",
    "def indxs_of_max2(d):\n",
    "    m1,m2=0,0\n",
    "    p1,p2=-1,-1\n",
    "    for i,j in enumerate(d):\n",
    "        if j>m1:\n",
    "            m1,m2=j,m1\n",
    "            p1,p2=i,p1\n",
    "        elif j>m2:\n",
    "            m2=j\n",
    "            p2=i\n",
    "    return (p1,p2)\n",
    "indx_value=lambda d,x:d[x] if x>=0 else 0\n",
    "dia=0\n",
    "def depth_of_all(x):\n",
    "    global dia\n",
    "    vis[x]=True\n",
    "    for i in g[x]:\n",
    "        if not vis[i]:\n",
    "            y=depth_of_all(i)\n",
    "            depth[x].append(y)\n",
    "        else:\n",
    "            depth[x].append(0)\n",
    "    indxs=indxs_of_max2(depth[x])\n",
    "    sm=sum(list(map(indx_value,[depth[x],depth[x]],indxs)))\n",
    "    dia=max(sm+1,dia)\n",
    "    return depth[x][indxs[0]]+1\n",
    "depth_of_all(1)\n",
    "depth\n"
   ]
  },
  {
   "cell_type": "code",
   "execution_count": 47,
   "metadata": {},
   "outputs": [
    {
     "data": {
      "text/plain": [
       "[1, 2]"
      ]
     },
     "execution_count": 47,
     "metadata": {},
     "output_type": "execute_result"
    }
   ],
   "source": [
    "dia_nodes=[False for i in range(n+1)]\n",
    "vis=[False for i in range(n+1)]\n",
    "parent_nodes=[]\n",
    "def sum_of_max2(x):\n",
    "    return sum(list(map(indx_value,[depth[x],depth[x]],indxs_of_max2(depth[x]))))+1\n",
    "def root_nodes_of_diameter(x):\n",
    "    y=sum_of_max2(x)\n",
    "    \n",
    "    if y==dia:\n",
    "        parent_nodes.append(x)\n",
    "    vis[x]=True\n",
    "    for i in g[x]:\n",
    "        if not vis[i]:\n",
    "            root_nodes_of_diameter(i)\n",
    "root_nodes_of_diameter(1)\n",
    "parent_nodes"
   ]
  }
 ],
 "metadata": {
  "kernelspec": {
   "display_name": "Python 3",
   "language": "python",
   "name": "python3"
  },
  "language_info": {
   "codemirror_mode": {
    "name": "ipython",
    "version": 3
   },
   "file_extension": ".py",
   "mimetype": "text/x-python",
   "name": "python",
   "nbconvert_exporter": "python",
   "pygments_lexer": "ipython3",
   "version": "3.6.4"
  }
 },
 "nbformat": 4,
 "nbformat_minor": 2
}
