{
 "cells": [
  {
   "cell_type": "code",
   "execution_count": 1,
   "metadata": {},
   "outputs": [],
   "source": [
    "#### Node"
   ]
  },
  {
   "cell_type": "code",
   "execution_count": 2,
   "metadata": {},
   "outputs": [],
   "source": [
    "class Node:\n",
    "    def __init__(self,val):\n",
    "        self.val=val\n",
    "        self.next=None\n",
    "        self.prev=None"
   ]
  },
  {
   "cell_type": "code",
   "execution_count": 3,
   "metadata": {},
   "outputs": [],
   "source": [
    "#### LL creation"
   ]
  },
  {
   "cell_type": "code",
   "execution_count": 5,
   "metadata": {},
   "outputs": [],
   "source": [
    "class LL:\n",
    "    def __init__(self):\n",
    "        self.root=None\n",
    "    def insert(self,val):\n",
    "        rt=self.root\n",
    "        if not rt:\n",
    "            rt=Node(val)\n",
    "            return\n",
    "        while rt.next:\n",
    "            rt=rt.next\n",
    "        nn=Node(val)\n",
    "        nn.prev=rt\n",
    "        rt.next=nn\n",
    "        return\n",
    "    \n",
    "    def find_middle(self):\n",
    "        rt=self.root\n",
    "        rt1=self.root\n",
    "        while rt1.next and rt1.next.next:\n",
    "            rt=rt.next\n",
    "            rt1=rt1.next.next\n",
    "        return rt.val\n",
    "    def reverse(self):\n",
    "        prev,current=None,self.root\n",
    "        while current:\n",
    "            next=current.next\n",
    "            current.next=prev\n",
    "            prev=current\n",
    "            current=next\n",
    "        self.root=prev\n",
    "        \n",
    "ll=LL()\n",
    "a=[1,3,5,7,9]\n",
    "for i in a:\n",
    "    ll.insert(i)\n",
    "ll2=LL()\n",
    "b=[2,4,4,5,8,10]\n",
    "\n",
    "for i in a:\n",
    "    ll2.insert(i)\n",
    "\n"
   ]
  },
  {
   "cell_type": "code",
   "execution_count": 8,
   "metadata": {},
   "outputs": [],
   "source": [
    "\n",
    "def merge_ll(r1,r2):\n",
    "    r3,tail=None,None\n",
    "    x=None\n",
    "    while r1 and r2:\n",
    "        if r1.val>r2.val:\n",
    "            x=r2\n",
    "            r2=r2.next\n",
    "        else:\n",
    "            x=r1\n",
    "            r1=r1.next\n",
    "        if not r3:\n",
    "            r3,tail=x,x\n",
    "        else:\n",
    "            tail.next=x\n",
    "            tail=tail.next\n",
    "        x.next=None\n",
    "    if r1:\n",
    "        if not r3:\n",
    "            r3=r1\n",
    "            return r3\n",
    "        tail.next=r1\n",
    "    elif r2:\n",
    "        if not r3:\n",
    "            r3=r2\n",
    "            return r3\n",
    "        tail.next=r2\n",
    "    return r3\n",
    "def print_nodes(root):\n",
    "    if not root:\n",
    "        return\n",
    "    print(root.val)\n",
    "    print_nodes(root.next)\n",
    "merged_ll=merge_ll(ll.root,ll2.root)\n",
    "print_nodes(merged_ll)"
   ]
  },
  {
   "cell_type": "code",
   "execution_count": 9,
   "metadata": {},
   "outputs": [],
   "source": [
    "#### Quick Sort Sorting"
   ]
  },
  {
   "cell_type": "code",
   "execution_count": 10,
   "metadata": {},
   "outputs": [
    {
     "ename": "SyntaxError",
     "evalue": "unexpected EOF while parsing (<ipython-input-10-33572462efca>, line 2)",
     "output_type": "error",
     "traceback": [
      "\u001b[1;36m  File \u001b[1;32m\"<ipython-input-10-33572462efca>\"\u001b[1;36m, line \u001b[1;32m2\u001b[0m\n\u001b[1;33m    if head!=tail:\u001b[0m\n\u001b[1;37m                  ^\u001b[0m\n\u001b[1;31mSyntaxError\u001b[0m\u001b[1;31m:\u001b[0m unexpected EOF while parsing\n"
     ]
    }
   ],
   "source": [
    "def pivot(head,tail):\n",
    "    prev,ind=None,head\n",
    "    root=head\n",
    "    while root!=tail:\n",
    "        if root.val<tail.val:\n",
    "            ind.val,root.val=root.val,ind.val\n",
    "            prev=ind\n",
    "            ind=ind.next\n",
    "        root=root.next\n",
    "    ind.val,tail.val=tail.val,ind.val\n",
    "    return prev,ind\n",
    "def quicksort(head,tail):\n",
    "    if head and tail and head!=tail:\n",
    "        prev,piv=pivot(head,tail)\n",
    "        quicksort(head,prev)\n",
    "        quicksort(piv.next,tail)\n",
    "        \n",
    "        \n",
    "\n"
   ]
  },
  {
   "cell_type": "code",
   "execution_count": 12,
   "metadata": {},
   "outputs": [
    {
     "ename": "AttributeError",
     "evalue": "'NoneType' object has no attribute 'next'",
     "output_type": "error",
     "traceback": [
      "\u001b[1;31m---------------------------------------------------------------------------\u001b[0m",
      "\u001b[1;31mAttributeError\u001b[0m                            Traceback (most recent call last)",
      "\u001b[1;32m<ipython-input-12-98ec2ba0c8ff>\u001b[0m in \u001b[0;36m<module>\u001b[1;34m()\u001b[0m\n\u001b[0;32m      8\u001b[0m \u001b[1;32mfor\u001b[0m \u001b[0mi\u001b[0m \u001b[1;32min\u001b[0m \u001b[0marray\u001b[0m\u001b[1;33m:\u001b[0m\u001b[1;33m\u001b[0m\u001b[0m\n\u001b[0;32m      9\u001b[0m     \u001b[0mllq\u001b[0m\u001b[1;33m.\u001b[0m\u001b[0minsert\u001b[0m\u001b[1;33m(\u001b[0m\u001b[0mi\u001b[0m\u001b[1;33m)\u001b[0m\u001b[1;33m\u001b[0m\u001b[0m\n\u001b[1;32m---> 10\u001b[1;33m \u001b[0mtail\u001b[0m\u001b[1;33m=\u001b[0m\u001b[0mtail_node\u001b[0m\u001b[1;33m(\u001b[0m\u001b[0mllq\u001b[0m\u001b[1;33m.\u001b[0m\u001b[0mroot\u001b[0m\u001b[1;33m)\u001b[0m\u001b[1;33m\u001b[0m\u001b[0m\n\u001b[0m\u001b[0;32m     11\u001b[0m \u001b[0mquicksort\u001b[0m\u001b[1;33m(\u001b[0m\u001b[0mllq\u001b[0m\u001b[1;33m.\u001b[0m\u001b[0mroot\u001b[0m\u001b[1;33m,\u001b[0m\u001b[0mtail\u001b[0m\u001b[1;33m)\u001b[0m\u001b[1;33m\u001b[0m\u001b[0m\n\u001b[0;32m     12\u001b[0m \u001b[0mprint_nodes\u001b[0m\u001b[1;33m(\u001b[0m\u001b[0mllq\u001b[0m\u001b[1;33m.\u001b[0m\u001b[0mroot\u001b[0m\u001b[1;33m)\u001b[0m\u001b[1;33m\u001b[0m\u001b[0m\n",
      "\u001b[1;32m<ipython-input-12-98ec2ba0c8ff>\u001b[0m in \u001b[0;36mtail_node\u001b[1;34m(root)\u001b[0m\n\u001b[0;32m      1\u001b[0m \u001b[1;33m\u001b[0m\u001b[0m\n\u001b[0;32m      2\u001b[0m \u001b[1;32mdef\u001b[0m \u001b[0mtail_node\u001b[0m\u001b[1;33m(\u001b[0m\u001b[0mroot\u001b[0m\u001b[1;33m)\u001b[0m\u001b[1;33m:\u001b[0m\u001b[1;33m\u001b[0m\u001b[0m\n\u001b[1;32m----> 3\u001b[1;33m     \u001b[1;32mwhile\u001b[0m \u001b[0mroot\u001b[0m\u001b[1;33m.\u001b[0m\u001b[0mnext\u001b[0m\u001b[1;33m:\u001b[0m\u001b[1;33m\u001b[0m\u001b[0m\n\u001b[0m\u001b[0;32m      4\u001b[0m         \u001b[0mroot\u001b[0m\u001b[1;33m=\u001b[0m\u001b[0mroot\u001b[0m\u001b[1;33m.\u001b[0m\u001b[0mnext\u001b[0m\u001b[1;33m\u001b[0m\u001b[0m\n\u001b[0;32m      5\u001b[0m     \u001b[1;32mreturn\u001b[0m \u001b[0mroot\u001b[0m\u001b[1;33m\u001b[0m\u001b[0m\n",
      "\u001b[1;31mAttributeError\u001b[0m: 'NoneType' object has no attribute 'next'"
     ]
    }
   ],
   "source": [
    "\n",
    "def tail_node(root):\n",
    "    while root.next:\n",
    "        root=root.next\n",
    "    return root\n",
    "llq=LL()\n",
    "array=[5,2,7,3,8,3,2,6,1]\n",
    "for i in array:\n",
    "    llq.insert(i)\n",
    "tail=tail_node(llq.root)\n",
    "quicksort(llq.root,tail)\n",
    "print_nodes(llq.root)"
   ]
  },
  {
   "cell_type": "code",
   "execution_count": 13,
   "metadata": {},
   "outputs": [
    {
     "data": {
      "text/plain": [
       "[]"
      ]
     },
     "execution_count": 13,
     "metadata": {},
     "output_type": "execute_result"
    }
   ],
   "source": [
    "a=[1,2]\n",
    "a[2:]"
   ]
  }
 ],
 "metadata": {
  "kernelspec": {
   "display_name": "Python 3",
   "language": "python",
   "name": "python3"
  },
  "language_info": {
   "codemirror_mode": {
    "name": "ipython",
    "version": 3
   },
   "file_extension": ".py",
   "mimetype": "text/x-python",
   "name": "python",
   "nbconvert_exporter": "python",
   "pygments_lexer": "ipython3",
   "version": "3.6.4"
  }
 },
 "nbformat": 4,
 "nbformat_minor": 2
}
