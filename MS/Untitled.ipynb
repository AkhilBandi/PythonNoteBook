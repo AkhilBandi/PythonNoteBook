{
 "cells": [
  {
   "cell_type": "code",
   "execution_count": 25,
   "id": "a52fa215",
   "metadata": {},
   "outputs": [],
   "source": [
    "import json;"
   ]
  },
  {
   "cell_type": "code",
   "execution_count": 26,
   "id": "1dc41616",
   "metadata": {},
   "outputs": [],
   "source": [
    "f = open(r'C:\\Users\\akhilbandi\\Documents\\Python\\PythonNoteBook\\MS\\Package', \"r\");\n",
    " \n",
    "# returns JSON object as\n",
    "# a dictionary\n",
    "data = json.load(f);"
   ]
  },
  {
   "cell_type": "code",
   "execution_count": 27,
   "id": "d3f4cf40",
   "metadata": {},
   "outputs": [],
   "source": [
    "x=data['devDependencies'];\n",
    "y = data['dependencies'];"
   ]
  },
  {
   "cell_type": "code",
   "execution_count": 28,
   "id": "ff8f9c83",
   "metadata": {},
   "outputs": [
    {
     "name": "stdout",
     "output_type": "stream",
     "text": [
      "@notes/webintegrations-common\n",
      "@types/deep-freeze\n",
      "@types/jest\n",
      "@types/js-cookie\n",
      "@types/jwt-decode\n",
      "@types/office-js\n",
      "@types/query-string\n",
      "@types/sinon-chai\n",
      "@types/systemjs\n",
      "awesome-typescript-loader\n",
      "babel-cli\n",
      "babel-core\n",
      "babel-jest\n",
      "babel-loader\n",
      "babel-plugin-transform-es2015-classes\n",
      "babel-plugin-transform-runtime\n",
      "babel-polyfill\n",
      "babel-preset-env\n",
      "babel-preset-es2015\n",
      "babel-preset-es2017\n",
      "babel-preset-react\n",
      "babel-preset-stage-2\n",
      "chai\n",
      "chalk\n",
      "deep-freeze\n",
      "express\n",
      "file-loader\n",
      "har-validator\n",
      "identity-obj-proxy\n",
      "jest\n",
      "jest-junit\n",
      "jest-localstorage-mock\n",
      "mini-css-extract-plugin\n",
      "mocha\n",
      "ngrok\n",
      "npm-run-all\n",
      "sinon\n",
      "sinon-chai\n",
      "systemjs\n",
      "ts-jest\n",
      "ts-loader\n",
      "tslint\n",
      "tslint-loader\n",
      "tslint-microsoft-contrib\n",
      "tslint-misc-rules\n",
      "tslint-react\n",
      "typescript\n",
      "uglify-save-license\n",
      "whatwg-fetch\n"
     ]
    }
   ],
   "source": [
    "for i in x : \n",
    "    print(i)"
   ]
  },
  {
   "cell_type": "code",
   "execution_count": 29,
   "id": "a6cde111",
   "metadata": {},
   "outputs": [
    {
     "data": {
      "text/plain": [
       "{'@notes/webintegrations-common': '0.1.25',\n",
       " '@types/deep-freeze': '^0.1.2',\n",
       " '@types/jest': '^26.0.23',\n",
       " '@types/js-cookie': '2.1.0',\n",
       " '@types/jwt-decode': '2.2.1',\n",
       " '@types/office-js': '^1.0.173',\n",
       " '@types/query-string': '6.3.0',\n",
       " '@types/sinon-chai': '^3.2.5',\n",
       " '@types/systemjs': '^0.20.6',\n",
       " 'awesome-typescript-loader': '^5.0.0',\n",
       " 'babel-cli': '6.26.0',\n",
       " 'babel-core': '6.26.3',\n",
       " 'babel-jest': '^23.0.1',\n",
       " 'babel-loader': '7.1.2',\n",
       " 'babel-plugin-transform-es2015-classes': '6.24.1',\n",
       " 'babel-plugin-transform-runtime': '6.23.0',\n",
       " 'babel-polyfill': '6.26.0',\n",
       " 'babel-preset-env': '^1.6.1',\n",
       " 'babel-preset-es2015': '6.24.1',\n",
       " 'babel-preset-es2017': '1.4.0',\n",
       " 'babel-preset-react': '6.24.1',\n",
       " 'babel-preset-stage-2': '6.24.1',\n",
       " 'chai': '^4.3.4',\n",
       " 'chalk': '^2.4.1',\n",
       " 'deep-freeze': '0.0.1',\n",
       " 'express': '^4.17.1',\n",
       " 'file-loader': '^1.1.11',\n",
       " 'har-validator': '5.1.5',\n",
       " 'identity-obj-proxy': '^3.0.0',\n",
       " 'jest': '^23.6.0',\n",
       " 'jest-junit': '^12.2.0',\n",
       " 'jest-localstorage-mock': '^2.4.18',\n",
       " 'mini-css-extract-plugin': '^1.6.0',\n",
       " 'mocha': '^5.0.5',\n",
       " 'ngrok': '^3.0.1',\n",
       " 'npm-run-all': '^4.1.5',\n",
       " 'sinon': '^4.5.0',\n",
       " 'sinon-chai': '^3.7.0',\n",
       " 'systemjs': '^2.1.1',\n",
       " 'ts-jest': '^22.4.4',\n",
       " 'ts-loader': '^8.0.17',\n",
       " 'tslint': '6.1.3',\n",
       " 'tslint-loader': '^3.5.3',\n",
       " 'tslint-microsoft-contrib': '6.2.0',\n",
       " 'tslint-misc-rules': '^3.6.0',\n",
       " 'tslint-react': '^3.5.1',\n",
       " 'typescript': '^2.7.2',\n",
       " 'uglify-save-license': '^0.4.1',\n",
       " 'whatwg-fetch': '2.0.3'}"
      ]
     },
     "execution_count": 29,
     "metadata": {},
     "output_type": "execute_result"
    }
   ],
   "source": [
    "x"
   ]
  },
  {
   "cell_type": "code",
   "execution_count": 30,
   "id": "e7aecedc",
   "metadata": {},
   "outputs": [],
   "source": [
    "packages = [\"office-online-flight-extension\",\n",
    "\"visio-mindmap-fluid-object\",\n",
    "\"excelint-core\",\n",
    "\"acui-button\",\n",
    "\"acui-callout\",\n",
    "\"acui-checkbox\",\n",
    "\"acui-choice-group\",\n",
    "\"acui-collab\",\n",
    "\"acui-color-picker\",\n",
    "\"acui-combobox\",\n",
    "\"acui-common\",\n",
    "\"acui-context\",\n",
    "\"acui-details-list\",\n",
    "\"acui-dialog\",\n",
    "\"acui-event-emitter\",\n",
    "\"acui-experiments\",\n",
    "\"acui-focusable-div\",\n",
    "\"acui-font-picker\",\n",
    "\"acui-gallery\",\n",
    "\"acui-gallery-character-code\",\n",
    "\"acui-gallery-font-styles\",\n",
    "\"acui-gallery-icon\",\n",
    "\"acui-gallery-ink-thickness\",\n",
    "\"acui-gallery-list\",\n",
    "\"acui-icons\",\n",
    "\"acui-iframe\",\n",
    "\"acui-input\",\n",
    "\"acui-keytip\",\n",
    "\"acui-label\",\n",
    "\"acui-link\",\n",
    "\"acui-memoization\",\n",
    "\"acui-menu\",\n",
    "\"acui-message-bar\",\n",
    "\"acui-notification\",\n",
    "\"acui-overflow-paddle-control\",\n",
    "\"acui-pivot\",\n",
    "\"acui-resizable\",\n",
    "\"acui-resize-group\",\n",
    "\"acui-ribbon-like\",\n",
    "\"acui-search-box\",\n",
    "\"acui-shadow-rendering\",\n",
    "\"acui-shy-component\",\n",
    "\"acui-slider\",\n",
    "\"acui-spinner\",\n",
    "\"acui-status-bar\",\n",
    "\"acui-tabbed-panel-menu\",\n",
    "\"acui-task-pane\",\n",
    "\"acui-theme\",\n",
    "\"acui-toggle\",\n",
    "\"acui-tooltip\",\n",
    "\"acui-tslint\",\n",
    "\"voice-commanding-test-app\",\n",
    "\"audio-player\",\n",
    "\"browser-utils\",\n",
    "\"compression\",\n",
    "\"distill-storybook\",\n",
    "\"excel-online-adaptive-layout\",\n",
    "\"excel-online-calc\",\n",
    "\"excel-online-calc-test\",\n",
    "\"excel-online-clipboard-platform\",\n",
    "\"excel-online-common\",\n",
    "\"excel-online-copy-paste\",\n",
    "\"excel-online-copy-paste-common\",\n",
    "\"excel-online-cpp\",\n",
    "\"excel-online-intelligent-formula-autocomplete\",\n",
    "\"excel-online-models\",\n",
    "\"jscodeshift-transforms\",\n",
    "\"mutation-observer-mock\",\n",
    "\"office-catchup-activity\",\n",
    "\"office-catchup-core\",\n",
    "\"office-online-app-platform\",\n",
    "\"office-online-canvas-contextual\",\n",
    "\"office-online-ccp\",\n",
    "\"office-online-chart-player\",\n",
    "\"office-online-cpu-profiling\",\n",
    "\"office-online-document-title\",\n",
    "\"office-online-draggable-floatie\",\n",
    "\"office-online-feature-gates\",\n",
    "\"office-online-interface-gen\",\n",
    "\"office-online-jsapi\",\n",
    "\"office-online-jsapi-core\",\n",
    "\"office-online-otel\",\n",
    "\"office-online-otel-next\",\n",
    "\"office-online-perf\",\n",
    "\"office-online-qos\",\n",
    "\"office-online-qos-small\",\n",
    "\"office-online-qos-wac\",\n",
    "\"office-online-react-conformance\",\n",
    "\"office-online-rum\",\n",
    "\"office-online-shared-clipboard\",\n",
    "\"office-online-shared-friendlydates\",\n",
    "\"office-online-shared-header\",\n",
    "\"office-online-shared-header-button\",\n",
    "\"office-online-shared-header-core\",\n",
    "\"office-online-shared-header-placeholder\",\n",
    "\"office-online-shared-shape\",\n",
    "\"office-online-strings-proxy\",\n",
    "\"office-online-telemetry\",\n",
    "\"office-online-tslint\",\n",
    "\"office-online-unified-ui-host\",\n",
    "\"office-online-ux\",\n",
    "\"onenote-online-navpane\",\n",
    "\"onenote-online-ux\",\n",
    "\"oouibot-screenshotdiff\",\n",
    "\"operation\",\n",
    "\"powerpoint-online-ux\",\n",
    "\"region-composer\",\n",
    "\"region-composer-buildtime\",\n",
    "\"region-composer-runtime\",\n",
    "\"stopwatch\",\n",
    "\"storybook-unit-testing\",\n",
    "\"suite-boot\",\n",
    "\"test-package\",\n",
    "\"typed-workers\",\n",
    "\"visio-fluid-object\",\n",
    "\"visio-object\",\n",
    "\"visio-object-shared-interface\",\n",
    "\"visio-online-layout\",\n",
    "\"visio-online-mindmap-layout\",\n",
    "\"visio-online-rte\",\n",
    "\"shared-document\",\n",
    "\"visio-solution-mindmap\",\n",
    "\"wac-microsoftajax\",\n",
    "\"window-util\",\n",
    "\"word-online-editor-mldata\"]"
   ]
  },
  {
   "cell_type": "code",
   "execution_count": 31,
   "id": "fc67b445",
   "metadata": {},
   "outputs": [
    {
     "data": {
      "text/plain": [
       "set()"
      ]
     },
     "execution_count": 31,
     "metadata": {},
     "output_type": "execute_result"
    }
   ],
   "source": [
    "d = set();\n",
    "\n",
    "for i in packages :\n",
    "    for j in x :\n",
    "        if i in j :\n",
    "            d.add(i);\n",
    "    for j in y :\n",
    "        if i in j :\n",
    "            d.add(i);\n",
    "d"
   ]
  },
  {
   "cell_type": "code",
   "execution_count": 32,
   "id": "88e2d510",
   "metadata": {},
   "outputs": [
    {
     "data": {
      "text/plain": [
       "{'@aria/webjs-sdk': '^1.8.0'}"
      ]
     },
     "execution_count": 32,
     "metadata": {},
     "output_type": "execute_result"
    }
   ],
   "source": [
    "y"
   ]
  },
  {
   "cell_type": "code",
   "execution_count": 9,
   "id": "6f28d493",
   "metadata": {},
   "outputs": [
    {
     "data": {
      "text/plain": [
       "125"
      ]
     },
     "execution_count": 9,
     "metadata": {},
     "output_type": "execute_result"
    }
   ],
   "source": [
    "len(packages)"
   ]
  },
  {
   "cell_type": "code",
   "execution_count": null,
   "id": "17f62fe6",
   "metadata": {},
   "outputs": [],
   "source": []
  }
 ],
 "metadata": {
  "kernelspec": {
   "display_name": "Python 3 (ipykernel)",
   "language": "python",
   "name": "python3"
  },
  "language_info": {
   "codemirror_mode": {
    "name": "ipython",
    "version": 3
   },
   "file_extension": ".py",
   "mimetype": "text/x-python",
   "name": "python",
   "nbconvert_exporter": "python",
   "pygments_lexer": "ipython3",
   "version": "3.10.0"
  }
 },
 "nbformat": 4,
 "nbformat_minor": 5
}
