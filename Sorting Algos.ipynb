{
 "cells": [
  {
   "cell_type": "code",
   "execution_count": 11,
   "metadata": {},
   "outputs": [],
   "source": [
    "a=[5,2,7,3,8,3,2,6,1]"
   ]
  },
  {
   "cell_type": "code",
   "execution_count": 3,
   "metadata": {},
   "outputs": [],
   "source": [
    "#### Quick Sort"
   ]
  },
  {
   "cell_type": "code",
   "execution_count": 8,
   "metadata": {},
   "outputs": [
    {
     "data": {
      "text/plain": [
       "[1, 2, 3, 3, 5, 6, 2, 8, 7]"
      ]
     },
     "execution_count": 8,
     "metadata": {},
     "output_type": "execute_result"
    }
   ],
   "source": [
    "def quicksort(i,j):\n",
    "    p=a[j]\n",
    "    ind=i\n",
    "    for k in range(i,j):\n",
    "        if a[k]<a[j]:\n",
    "            a[ind],a[k]=a[k],a[ind]\n",
    "            ind+=1\n",
    "    a[ind],a[j]=a[j],a[ind]\n",
    "    return ind\n",
    "\n",
    "def qsort(i,j):\n",
    "    if i>=0 and j<len(a) and i<j:\n",
    "        p=quicksort(i,j)\n",
    "        qsort(i,p-1)\n",
    "        qsort(p+1,j)\n",
    "qsort(0,len(a)-1)\n",
    "a"
   ]
  },
  {
   "cell_type": "code",
   "execution_count": 9,
   "metadata": {},
   "outputs": [],
   "source": [
    "#### HeapSort"
   ]
  },
  {
   "cell_type": "code",
   "execution_count": 6,
   "metadata": {},
   "outputs": [
    {
     "data": {
      "text/plain": [
       "[1, 2, 2, 3, 3, 5, 6, 8, 7]"
      ]
     },
     "execution_count": 6,
     "metadata": {},
     "output_type": "execute_result"
    }
   ],
   "source": [
    "def heapify(i,n):\n",
    "    ind=i\n",
    "    left=(2*ind)+1\n",
    "    right=(2*ind)+2\n",
    "    if left<n and a[left]>a[ind]:\n",
    "        ind=left\n",
    "    if right<n and a[right]>a[ind]:\n",
    "        ind=right\n",
    "    if ind!=i:\n",
    "        a[i],a[ind]=a[ind],a[i]\n",
    "        heapify(ind,n)\n",
    "def heapsort():\n",
    "    ln=len(a)\n",
    "    for i in range(int((ln-1)/2)):\n",
    "        heapify(i,ln)\n",
    "    for i in range(ln-1,0,-1):\n",
    "        a[0],a[i]=a[i],a[0]\n",
    "        heapify(0,i)\n",
    "heapsort()\n",
    "a   "
   ]
  },
  {
   "cell_type": "code",
   "execution_count": 10,
   "metadata": {},
   "outputs": [],
   "source": [
    "#### Merge Sort"
   ]
  },
  {
   "cell_type": "code",
   "execution_count": 10,
   "metadata": {},
   "outputs": [
    {
     "name": "stdout",
     "output_type": "stream",
     "text": [
      "[5, 2, 7, 3, 8, 3, 2, 6, 1]\n"
     ]
    },
    {
     "data": {
      "text/plain": [
       "[1, 2, 2, 3, 3, 5, 6, 7, 8]"
      ]
     },
     "execution_count": 10,
     "metadata": {},
     "output_type": "execute_result"
    }
   ],
   "source": [
    "def mergearrays(s1,s2,e):\n",
    "    l=[]\n",
    "    i,j=s1,s2\n",
    "    while i<s2 and j<=e:\n",
    "        if a[i]<a[j]:\n",
    "            l.append(a[i])\n",
    "            i+=1\n",
    "        else:\n",
    "            l.append(a[j])\n",
    "            j+=1\n",
    "    if i==s2:\n",
    "        l+=a[j:e+1]\n",
    "    else:\n",
    "        l+=a[i:s2]\n",
    "    a[s1:e+1]=l\n",
    "        \n",
    "def mergesort(s,e):\n",
    "    if s<e:\n",
    "        m=int((s+e+1)/2)\n",
    "        mergesort(s,m-1)\n",
    "        mergesort(m,e)\n",
    "        mergearrays(s,m,e)\n",
    "mergesort(0,len(a)-1)\n",
    "a"
   ]
  },
  {
   "cell_type": "code",
   "execution_count": 11,
   "metadata": {},
   "outputs": [],
   "source": [
    "#### selection sort"
   ]
  },
  {
   "cell_type": "code",
   "execution_count": 12,
   "metadata": {},
   "outputs": [
    {
     "data": {
      "text/plain": [
       "[1, 2, 5, 2, 7, 3, 3, 6, 8]"
      ]
     },
     "execution_count": 12,
     "metadata": {},
     "output_type": "execute_result"
    }
   ],
   "source": [
    "def selectionsort():\n",
    "    ln=len(a)\n",
    "    for i in range(ln):\n",
    "        ind=i\n",
    "        for j in range(i+1,ln):\n",
    "            if a[ind]>a[j]:\n",
    "                ind=j\n",
    "        a[i],a[ind]=a[ind],a[i]\n",
    "selectionsort()\n",
    "a"
   ]
  },
  {
   "cell_type": "code",
   "execution_count": null,
   "metadata": {},
   "outputs": [],
   "source": []
  }
 ],
 "metadata": {
  "kernelspec": {
   "display_name": "Python 3",
   "language": "python",
   "name": "python3"
  },
  "language_info": {
   "codemirror_mode": {
    "name": "ipython",
    "version": 3
   },
   "file_extension": ".py",
   "mimetype": "text/x-python",
   "name": "python",
   "nbconvert_exporter": "python",
   "pygments_lexer": "ipython3",
   "version": "3.6.4"
  }
 },
 "nbformat": 4,
 "nbformat_minor": 2
}
