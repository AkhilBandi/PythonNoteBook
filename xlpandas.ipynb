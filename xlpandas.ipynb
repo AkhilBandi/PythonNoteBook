{
 "cells": [
  {
   "cell_type": "code",
   "execution_count": 3,
   "metadata": {},
   "outputs": [],
   "source": [
    "import pandas as pd\n",
    "import xlwings as xw\n",
    "from xlpandas.forms import ExcelForms\n",
    "import yaml"
   ]
  },
  {
   "cell_type": "code",
   "execution_count": null,
   "metadata": {},
   "outputs": [],
   "source": [
    "book = xl.Book(r\"C:\\Users\\AkhilReddyBandi\\Downloads\\ar.xlsx\")\n",
    "sheet=book.sheets['Rate Comparison Worksheet']\n",
    "print(sheet)"
   ]
  },
  {
   "cell_type": "code",
   "execution_count": null,
   "metadata": {},
   "outputs": [],
   "source": [
    "book.sheets[0].api"
   ]
  },
  {
   "cell_type": "code",
   "execution_count": null,
   "metadata": {},
   "outputs": [],
   "source": [
    "row_headings=[\"Coverage\"]\n",
    "config={\n",
    "    'commercial_auto': {\n",
    "        'table data': {\n",
    "            'first_column': 'Expiring Term',\n",
    "            'n_col_headings': 1,\n",
    "            'first_row': \"Prem Ops\",\n",
    "            'last_row': 'Total Auto',\n",
    "            'row_headings': row_headings,\n",
    "            'remove_nones': False\n",
    "        }\n",
    "    },\n",
    "    'insured':  {\n",
    "        'appears_by': {\n",
    "            'text':\"Insured:\",\n",
    "            \"direction\":\"right\"\n",
    "        }\n",
    "    },\n",
    "    'agent':  {\n",
    "        'appears_by': {\n",
    "            'text':\"Agent:\",\n",
    "            \"direction\":\"right\"\n",
    "        }\n",
    "    },\n",
    "    'policy_number':  {\n",
    "        'appears_by': {\n",
    "            'text':\"Policy/Version Number(s):\",\n",
    "            \"direction\":\"right\"\n",
    "        }\n",
    "    },\n",
    "    'eff_date': {\n",
    "        'appears_by': {\n",
    "            'text':\"Eff Date(s):\",\n",
    "            \"direction\":\"right\"\n",
    "        }\n",
    "    }\n",
    "}\n",
    "\n",
    "\n"
   ]
  },
  {
   "cell_type": "code",
   "execution_count": null,
   "metadata": {},
   "outputs": [],
   "source": [
    "forms=ExcelForms(sheet,config)\n",
    "print(forms)\n"
   ]
  },
  {
   "cell_type": "code",
   "execution_count": null,
   "metadata": {},
   "outputs": [],
   "source": [
    "\n",
    "table=forms.variables['agent']\n",
    "type(table.value.loc[0])\n",
    "table.value.loc[0]=\"MMA\"\n",
    "print(table.value)"
   ]
  },
  {
   "cell_type": "code",
   "execution_count": null,
   "metadata": {},
   "outputs": [],
   "source": [
    "table.value=\"MMM\""
   ]
  },
  {
   "cell_type": "code",
   "execution_count": null,
   "metadata": {},
   "outputs": [],
   "source": [
    "book.save()"
   ]
  },
  {
   "cell_type": "code",
   "execution_count": null,
   "metadata": {},
   "outputs": [],
   "source": [
    "import os\n",
    "print(os.getcwd())"
   ]
  },
  {
   "cell_type": "code",
   "execution_count": null,
   "metadata": {},
   "outputs": [],
   "source": [
    "table_c=forms.variables['excel_table']\n",
    "table_c.value[\"Expiring Term\"].loc[\"Commercial Auto\"]"
   ]
  },
  {
   "cell_type": "code",
   "execution_count": null,
   "metadata": {},
   "outputs": [],
   "source": [
    "table_c.value.loc[\"Liability - All types\",(\"Expiring Term\",\"Limit\")][0]\n",
    "\n"
   ]
  },
  {
   "cell_type": "code",
   "execution_count": 26,
   "metadata": {},
   "outputs": [
    {
     "data": {
      "text/plain": [
       "Apps([<Excel App 15744>])"
      ]
     },
     "execution_count": 26,
     "metadata": {},
     "output_type": "execute_result"
    }
   ],
   "source": [
    "xw.apps"
   ]
  },
  {
   "cell_type": "code",
   "execution_count": 43,
   "metadata": {},
   "outputs": [
    {
     "name": "stdout",
     "output_type": "stream",
     "text": [
      "['__class__', '__delattr__', '__dict__', '__dir__', '__doc__', '__eq__', '__format__', '__ge__', '__getattribute__', '__gt__', '__hash__', '__init__', '__init_subclass__', '__le__', '__lt__', '__module__', '__ne__', '__new__', '__reduce__', '__reduce_ex__', '__repr__', '__setattr__', '__sizeof__', '__str__', '__subclasshook__', '__weakref__', 'activate', 'api', 'app', 'caller', 'close', 'fullname', 'impl', 'macro', 'name', 'names', 'open_template', 'save', 'selection', 'set_mock_caller', 'sheets']\n",
      "['__call__', '__class__', '__contains__', '__delattr__', '__delitem__', '__dict__', '__dir__', '__doc__', '__eq__', '__format__', '__ge__', '__getattribute__', '__getitem__', '__gt__', '__hash__', '__init__', '__init_subclass__', '__iter__', '__le__', '__len__', '__lt__', '__module__', '__ne__', '__new__', '__reduce__', '__reduce_ex__', '__repr__', '__setattr__', '__sizeof__', '__str__', '__subclasshook__', '__weakref__', '_name', '_wrap', 'active', 'add', 'api', 'count', 'impl']\n",
      "['__class__', '__delattr__', '__dict__', '__dir__', '__doc__', '__eq__', '__format__', '__ge__', '__getattribute__', '__getitem__', '__gt__', '__hash__', '__init__', '__init_subclass__', '__le__', '__lt__', '__module__', '__ne__', '__new__', '__reduce__', '__reduce_ex__', '__repr__', '__setattr__', '__sizeof__', '__str__', '__subclasshook__', '__weakref__', 'activate', 'api', 'autofit', 'book', 'cells', 'charts', 'clear', 'clear_contents', 'delete', 'impl', 'index', 'name', 'names', 'pictures', 'range', 'select', 'shapes']\n",
      "test\n"
     ]
    }
   ],
   "source": [
    "for handle in xw.apps:\n",
    "    print(dir(handle.books[0]))\n",
    "    print(dir(handle.books[0].sheets))\n",
    "    print(dir(handle.books[0].sheets[0]))\n",
    "    print(handle.books[0].sheets[0].name)\n",
    "    "
   ]
  },
  {
   "cell_type": "code",
   "execution_count": 44,
   "metadata": {},
   "outputs": [],
   "source": [
    "book = xl.Book(r\"C:\\Users\\AkhilReddyBandi\\Downloads\\test1.xlsx\")"
   ]
  },
  {
   "cell_type": "code",
   "execution_count": null,
   "metadata": {},
   "outputs": [],
   "source": []
  }
 ],
 "metadata": {
  "kernelspec": {
   "display_name": "Python 3",
   "language": "python",
   "name": "python3"
  },
  "language_info": {
   "codemirror_mode": {
    "name": "ipython",
    "version": 3
   },
   "file_extension": ".py",
   "mimetype": "text/x-python",
   "name": "python",
   "nbconvert_exporter": "python",
   "pygments_lexer": "ipython3",
   "version": "3.6.4"
  }
 },
 "nbformat": 4,
 "nbformat_minor": 2
}
